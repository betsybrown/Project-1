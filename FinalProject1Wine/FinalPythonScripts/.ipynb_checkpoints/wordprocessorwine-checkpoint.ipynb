{
 "cells": [
  {
   "cell_type": "code",
   "execution_count": 198,
   "metadata": {},
   "outputs": [],
   "source": [
    "import pandas as pd\n",
    "import numpy as np\n",
    "import matplotlib.pyplot as plt\n",
    "\n",
    "\n",
    "wine_data_to_load = \"/Users/kurtshiple/Desktop/Project1/projectcsvs/wine-reviews/winemag-data-130k-v2.csv\"\n",
    "\n",
    "wine_data = pd.read_csv(wine_data_to_load)"
   ]
  },
  {
   "cell_type": "code",
   "execution_count": 223,
   "metadata": {},
   "outputs": [],
   "source": [
    "#Words we want to ignore\n",
    "stopwords = ['a', 'about', 'above', 'across', 'after', 'afterwards']\n",
    "stopwords += ['again', 'against', 'all', 'almost', 'alone', 'along']\n",
    "stopwords += ['already', 'also', 'although', 'always', 'am', 'among']\n",
    "stopwords += ['amongst', 'amoungst', 'amount', 'an', 'and', 'another']\n",
    "stopwords += ['any', 'anyhow', 'anyone', 'anything', 'anyway', 'anywhere']\n",
    "stopwords += ['are', 'around', 'as', 'at', 'back', 'be', 'became']\n",
    "stopwords += ['because', 'become', 'becomes', 'becoming', 'been']\n",
    "stopwords += ['before', 'beforehand', 'behind', 'being', 'below']\n",
    "stopwords += ['beside', 'besides', 'between', 'beyond', 'bill', 'both']\n",
    "stopwords += ['bottom', 'but', 'by', 'call', 'can', 'cannot', 'cant']\n",
    "stopwords += ['co', 'computer', 'con', 'could', 'couldnt', 'cry', 'de']\n",
    "stopwords += ['describe', 'detail', 'did', 'do', 'done', 'down', 'due']\n",
    "stopwords += ['during', 'each', 'eg', 'eight', 'either', 'eleven', 'else']\n",
    "stopwords += ['elsewhere', 'empty', 'enough', 'etc', 'even', 'ever']\n",
    "stopwords += ['every', 'everyone', 'everything', 'everywhere', 'except']\n",
    "stopwords += ['few', 'fifteen', 'fifty', 'fill', 'find', 'fire', 'first']\n",
    "stopwords += ['five', 'for', 'former', 'formerly', 'forty', 'found']\n",
    "stopwords += ['four', 'from', 'front', 'full', 'further', 'get', 'give']\n",
    "stopwords += ['go', 'had', 'has', 'hasnt', 'have', 'he', 'hence', 'her']\n",
    "stopwords += ['here', 'hereafter', 'hereby', 'herein', 'hereupon', 'hers']\n",
    "stopwords += ['herself', 'him', 'himself', 'his', 'how', 'however']\n",
    "stopwords += ['hundred', 'i', 'ie', 'if', 'in', 'inc', 'indeed']\n",
    "stopwords += ['interest', 'into', 'is', 'it', 'its', 'itself', 'keep']\n",
    "stopwords += ['last', 'latter', 'latterly', 'least', 'less', 'ltd', 'made']\n",
    "stopwords += ['many', 'may', 'me', 'meanwhile', 'might', 'mill', 'mine']\n",
    "stopwords += ['more', 'moreover', 'most', 'mostly', 'move', 'much']\n",
    "stopwords += ['must', 'my', 'myself', 'name', 'namely', 'neither', 'never']\n",
    "stopwords += ['nevertheless', 'next', 'nine', 'no', 'nobody', 'none']\n",
    "stopwords += ['noone', 'nor', 'not', 'nothing', 'now', 'nowhere', 'of']\n",
    "stopwords += ['off', 'often', 'on','once', 'one', 'only', 'onto', 'or']\n",
    "stopwords += ['other', 'others', 'otherwise', 'our', 'ours', 'ourselves']\n",
    "stopwords += ['out', 'over', 'own', 'part', 'per', 'perhaps', 'please']\n",
    "stopwords += ['put', 'rather', 're', 's', 'same', 'see', 'seem', 'seemed']\n",
    "stopwords += ['seeming', 'seems', 'serious', 'several', 'she', 'should']\n",
    "stopwords += ['show', 'side', 'since', 'sincere', 'six', 'sixty', 'so']\n",
    "stopwords += ['some', 'somehow', 'someone', 'something', 'sometime']\n",
    "stopwords += ['sometimes', 'somewhere', 'still', 'such', 'system', 'take']\n",
    "stopwords += ['ten', 'than', 'that', 'the', 'their', 'them', 'themselves']\n",
    "stopwords += ['then', 'thence', 'there', 'thereafter', 'thereby']\n",
    "stopwords += ['therefore', 'therein', 'thereupon', 'these', 'they']\n",
    "stopwords += ['thick', 'thin', 'third', 'this', 'those', 'though', 'three']\n",
    "stopwords += ['three', 'through', 'throughout', 'thru', 'thus', 'to']\n",
    "stopwords += ['together', 'too', 'top', 'toward', 'towards', 'twelve']\n",
    "stopwords += ['twenty', 'two', 'un', 'under', 'until', 'up', 'upon']\n",
    "stopwords += ['us', 'very', 'via', 'was', 'we', 'well', 'were', 'what']\n",
    "stopwords += ['whatever', 'when', 'whence', 'whenever', 'where']\n",
    "stopwords += ['whereafter', 'whereas', 'whereby', 'wherein', 'whereupon']\n",
    "stopwords += ['wherever', 'whether', 'which', 'while', 'whither', 'who']\n",
    "stopwords += ['whoever', 'whole', 'whom', 'whose', 'why', 'will', 'with']\n",
    "stopwords += ['within', 'without', 'would', 'yet', 'you', 'your']\n",
    "stopwords += ['yours', 'yourself', 'yourselves']\n",
    "stopwords += ['The', 'This', \"it's\",\"It's\",\"A\",\"It'\",\"It\",\"like\",\"wine\",\"Pinot\",\"Drink\"]"
   ]
  },
  {
   "cell_type": "code",
   "execution_count": 200,
   "metadata": {},
   "outputs": [
    {
     "data": {
      "text/html": [
       "<div>\n",
       "<style scoped>\n",
       "    .dataframe tbody tr th:only-of-type {\n",
       "        vertical-align: middle;\n",
       "    }\n",
       "\n",
       "    .dataframe tbody tr th {\n",
       "        vertical-align: top;\n",
       "    }\n",
       "\n",
       "    .dataframe thead th {\n",
       "        text-align: right;\n",
       "    }\n",
       "</style>\n",
       "<table border=\"1\" class=\"dataframe\">\n",
       "  <thead>\n",
       "    <tr style=\"text-align: right;\">\n",
       "      <th></th>\n",
       "      <th>Unnamed: 0</th>\n",
       "      <th>country</th>\n",
       "      <th>description</th>\n",
       "      <th>designation</th>\n",
       "      <th>points</th>\n",
       "      <th>price</th>\n",
       "      <th>province</th>\n",
       "      <th>region_1</th>\n",
       "      <th>region_2</th>\n",
       "      <th>taster_name</th>\n",
       "      <th>taster_twitter_handle</th>\n",
       "      <th>title</th>\n",
       "      <th>variety</th>\n",
       "      <th>winery</th>\n",
       "    </tr>\n",
       "  </thead>\n",
       "  <tbody>\n",
       "    <tr>\n",
       "      <th>0</th>\n",
       "      <td>0</td>\n",
       "      <td>Italy</td>\n",
       "      <td>Aromas include tropical fruit, broom, brimston...</td>\n",
       "      <td>Vulkà Bianco</td>\n",
       "      <td>87</td>\n",
       "      <td>NaN</td>\n",
       "      <td>Sicily &amp; Sardinia</td>\n",
       "      <td>Etna</td>\n",
       "      <td>NaN</td>\n",
       "      <td>Kerin O’Keefe</td>\n",
       "      <td>@kerinokeefe</td>\n",
       "      <td>Nicosia 2013 Vulkà Bianco  (Etna)</td>\n",
       "      <td>White Blend</td>\n",
       "      <td>Nicosia</td>\n",
       "    </tr>\n",
       "    <tr>\n",
       "      <th>1</th>\n",
       "      <td>1</td>\n",
       "      <td>Portugal</td>\n",
       "      <td>This is ripe and fruity, a wine that is smooth...</td>\n",
       "      <td>Avidagos</td>\n",
       "      <td>87</td>\n",
       "      <td>15.0</td>\n",
       "      <td>Douro</td>\n",
       "      <td>NaN</td>\n",
       "      <td>NaN</td>\n",
       "      <td>Roger Voss</td>\n",
       "      <td>@vossroger</td>\n",
       "      <td>Quinta dos Avidagos 2011 Avidagos Red (Douro)</td>\n",
       "      <td>Portuguese Red</td>\n",
       "      <td>Quinta dos Avidagos</td>\n",
       "    </tr>\n",
       "    <tr>\n",
       "      <th>2</th>\n",
       "      <td>2</td>\n",
       "      <td>US</td>\n",
       "      <td>Tart and snappy, the flavors of lime flesh and...</td>\n",
       "      <td>NaN</td>\n",
       "      <td>87</td>\n",
       "      <td>14.0</td>\n",
       "      <td>Oregon</td>\n",
       "      <td>Willamette Valley</td>\n",
       "      <td>Willamette Valley</td>\n",
       "      <td>Paul Gregutt</td>\n",
       "      <td>@paulgwine</td>\n",
       "      <td>Rainstorm 2013 Pinot Gris (Willamette Valley)</td>\n",
       "      <td>Pinot Gris</td>\n",
       "      <td>Rainstorm</td>\n",
       "    </tr>\n",
       "    <tr>\n",
       "      <th>3</th>\n",
       "      <td>3</td>\n",
       "      <td>US</td>\n",
       "      <td>Pineapple rind, lemon pith and orange blossom ...</td>\n",
       "      <td>Reserve Late Harvest</td>\n",
       "      <td>87</td>\n",
       "      <td>13.0</td>\n",
       "      <td>Michigan</td>\n",
       "      <td>Lake Michigan Shore</td>\n",
       "      <td>NaN</td>\n",
       "      <td>Alexander Peartree</td>\n",
       "      <td>NaN</td>\n",
       "      <td>St. Julian 2013 Reserve Late Harvest Riesling ...</td>\n",
       "      <td>Riesling</td>\n",
       "      <td>St. Julian</td>\n",
       "    </tr>\n",
       "    <tr>\n",
       "      <th>4</th>\n",
       "      <td>4</td>\n",
       "      <td>US</td>\n",
       "      <td>Much like the regular bottling from 2012, this...</td>\n",
       "      <td>Vintner's Reserve Wild Child Block</td>\n",
       "      <td>87</td>\n",
       "      <td>65.0</td>\n",
       "      <td>Oregon</td>\n",
       "      <td>Willamette Valley</td>\n",
       "      <td>Willamette Valley</td>\n",
       "      <td>Paul Gregutt</td>\n",
       "      <td>@paulgwine</td>\n",
       "      <td>Sweet Cheeks 2012 Vintner's Reserve Wild Child...</td>\n",
       "      <td>Pinot Noir</td>\n",
       "      <td>Sweet Cheeks</td>\n",
       "    </tr>\n",
       "  </tbody>\n",
       "</table>\n",
       "</div>"
      ],
      "text/plain": [
       "   Unnamed: 0   country                                        description  \\\n",
       "0           0     Italy  Aromas include tropical fruit, broom, brimston...   \n",
       "1           1  Portugal  This is ripe and fruity, a wine that is smooth...   \n",
       "2           2        US  Tart and snappy, the flavors of lime flesh and...   \n",
       "3           3        US  Pineapple rind, lemon pith and orange blossom ...   \n",
       "4           4        US  Much like the regular bottling from 2012, this...   \n",
       "\n",
       "                          designation  points  price           province  \\\n",
       "0                        Vulkà Bianco      87    NaN  Sicily & Sardinia   \n",
       "1                            Avidagos      87   15.0              Douro   \n",
       "2                                 NaN      87   14.0             Oregon   \n",
       "3                Reserve Late Harvest      87   13.0           Michigan   \n",
       "4  Vintner's Reserve Wild Child Block      87   65.0             Oregon   \n",
       "\n",
       "              region_1           region_2         taster_name  \\\n",
       "0                 Etna                NaN       Kerin O’Keefe   \n",
       "1                  NaN                NaN          Roger Voss   \n",
       "2    Willamette Valley  Willamette Valley        Paul Gregutt   \n",
       "3  Lake Michigan Shore                NaN  Alexander Peartree   \n",
       "4    Willamette Valley  Willamette Valley        Paul Gregutt   \n",
       "\n",
       "  taster_twitter_handle                                              title  \\\n",
       "0          @kerinokeefe                  Nicosia 2013 Vulkà Bianco  (Etna)   \n",
       "1            @vossroger      Quinta dos Avidagos 2011 Avidagos Red (Douro)   \n",
       "2           @paulgwine       Rainstorm 2013 Pinot Gris (Willamette Valley)   \n",
       "3                   NaN  St. Julian 2013 Reserve Late Harvest Riesling ...   \n",
       "4           @paulgwine   Sweet Cheeks 2012 Vintner's Reserve Wild Child...   \n",
       "\n",
       "          variety               winery  \n",
       "0     White Blend              Nicosia  \n",
       "1  Portuguese Red  Quinta dos Avidagos  \n",
       "2      Pinot Gris            Rainstorm  \n",
       "3        Riesling           St. Julian  \n",
       "4      Pinot Noir         Sweet Cheeks  "
      ]
     },
     "execution_count": 200,
     "metadata": {},
     "output_type": "execute_result"
    }
   ],
   "source": [
    "wine_data.head()"
   ]
  },
  {
   "cell_type": "code",
   "execution_count": 201,
   "metadata": {},
   "outputs": [
    {
     "data": {
      "text/html": [
       "<div>\n",
       "<style scoped>\n",
       "    .dataframe tbody tr th:only-of-type {\n",
       "        vertical-align: middle;\n",
       "    }\n",
       "\n",
       "    .dataframe tbody tr th {\n",
       "        vertical-align: top;\n",
       "    }\n",
       "\n",
       "    .dataframe thead th {\n",
       "        text-align: right;\n",
       "    }\n",
       "</style>\n",
       "<table border=\"1\" class=\"dataframe\">\n",
       "  <thead>\n",
       "    <tr style=\"text-align: right;\">\n",
       "      <th></th>\n",
       "      <th>country</th>\n",
       "      <th>description</th>\n",
       "      <th>points</th>\n",
       "      <th>price</th>\n",
       "      <th>title</th>\n",
       "      <th>variety</th>\n",
       "      <th>winery</th>\n",
       "    </tr>\n",
       "  </thead>\n",
       "  <tbody>\n",
       "    <tr>\n",
       "      <th>0</th>\n",
       "      <td>Italy</td>\n",
       "      <td>Aromas include tropical fruit, broom, brimston...</td>\n",
       "      <td>87</td>\n",
       "      <td>NaN</td>\n",
       "      <td>Nicosia 2013 Vulkà Bianco  (Etna)</td>\n",
       "      <td>White Blend</td>\n",
       "      <td>Nicosia</td>\n",
       "    </tr>\n",
       "    <tr>\n",
       "      <th>1</th>\n",
       "      <td>Portugal</td>\n",
       "      <td>This is ripe and fruity, a wine that is smooth...</td>\n",
       "      <td>87</td>\n",
       "      <td>15.0</td>\n",
       "      <td>Quinta dos Avidagos 2011 Avidagos Red (Douro)</td>\n",
       "      <td>Portuguese Red</td>\n",
       "      <td>Quinta dos Avidagos</td>\n",
       "    </tr>\n",
       "    <tr>\n",
       "      <th>2</th>\n",
       "      <td>US</td>\n",
       "      <td>Tart and snappy, the flavors of lime flesh and...</td>\n",
       "      <td>87</td>\n",
       "      <td>14.0</td>\n",
       "      <td>Rainstorm 2013 Pinot Gris (Willamette Valley)</td>\n",
       "      <td>Pinot Gris</td>\n",
       "      <td>Rainstorm</td>\n",
       "    </tr>\n",
       "    <tr>\n",
       "      <th>3</th>\n",
       "      <td>US</td>\n",
       "      <td>Pineapple rind, lemon pith and orange blossom ...</td>\n",
       "      <td>87</td>\n",
       "      <td>13.0</td>\n",
       "      <td>St. Julian 2013 Reserve Late Harvest Riesling ...</td>\n",
       "      <td>Riesling</td>\n",
       "      <td>St. Julian</td>\n",
       "    </tr>\n",
       "    <tr>\n",
       "      <th>4</th>\n",
       "      <td>US</td>\n",
       "      <td>Much like the regular bottling from 2012, this...</td>\n",
       "      <td>87</td>\n",
       "      <td>65.0</td>\n",
       "      <td>Sweet Cheeks 2012 Vintner's Reserve Wild Child...</td>\n",
       "      <td>Pinot Noir</td>\n",
       "      <td>Sweet Cheeks</td>\n",
       "    </tr>\n",
       "  </tbody>\n",
       "</table>\n",
       "</div>"
      ],
      "text/plain": [
       "    country                                        description  points  price  \\\n",
       "0     Italy  Aromas include tropical fruit, broom, brimston...      87    NaN   \n",
       "1  Portugal  This is ripe and fruity, a wine that is smooth...      87   15.0   \n",
       "2        US  Tart and snappy, the flavors of lime flesh and...      87   14.0   \n",
       "3        US  Pineapple rind, lemon pith and orange blossom ...      87   13.0   \n",
       "4        US  Much like the regular bottling from 2012, this...      87   65.0   \n",
       "\n",
       "                                               title         variety  \\\n",
       "0                  Nicosia 2013 Vulkà Bianco  (Etna)     White Blend   \n",
       "1      Quinta dos Avidagos 2011 Avidagos Red (Douro)  Portuguese Red   \n",
       "2      Rainstorm 2013 Pinot Gris (Willamette Valley)      Pinot Gris   \n",
       "3  St. Julian 2013 Reserve Late Harvest Riesling ...        Riesling   \n",
       "4  Sweet Cheeks 2012 Vintner's Reserve Wild Child...      Pinot Noir   \n",
       "\n",
       "                winery  \n",
       "0              Nicosia  \n",
       "1  Quinta dos Avidagos  \n",
       "2            Rainstorm  \n",
       "3           St. Julian  \n",
       "4         Sweet Cheeks  "
      ]
     },
     "execution_count": 201,
     "metadata": {},
     "output_type": "execute_result"
    }
   ],
   "source": [
    "\n",
    "del wine_data[\"designation\"]\n",
    "del wine_data[\"province\"]\n",
    "del wine_data[\"region_1\"]\n",
    "del wine_data[\"region_2\"]\n",
    "del wine_data[\"taster_name\"]\n",
    "del wine_data[\"taster_twitter_handle\"]\n",
    "del wine_data[\"Unnamed: 0\"]\n",
    "\n",
    "wine_data.head()"
   ]
  },
  {
   "cell_type": "code",
   "execution_count": 202,
   "metadata": {},
   "outputs": [
    {
     "data": {
      "text/plain": [
       "country        120915\n",
       "description    120915\n",
       "points         120915\n",
       "price          120915\n",
       "title          120915\n",
       "variety        120915\n",
       "winery         120915\n",
       "dtype: int64"
      ]
     },
     "execution_count": 202,
     "metadata": {},
     "output_type": "execute_result"
    }
   ],
   "source": [
    "wine_data = wine_data.dropna(how='any')\n",
    "wine_data.count()"
   ]
  },
  {
   "cell_type": "code",
   "execution_count": 203,
   "metadata": {},
   "outputs": [
    {
     "data": {
      "text/html": [
       "<div>\n",
       "<style scoped>\n",
       "    .dataframe tbody tr th:only-of-type {\n",
       "        vertical-align: middle;\n",
       "    }\n",
       "\n",
       "    .dataframe tbody tr th {\n",
       "        vertical-align: top;\n",
       "    }\n",
       "\n",
       "    .dataframe thead th {\n",
       "        text-align: right;\n",
       "    }\n",
       "</style>\n",
       "<table border=\"1\" class=\"dataframe\">\n",
       "  <thead>\n",
       "    <tr style=\"text-align: right;\">\n",
       "      <th></th>\n",
       "      <th>title</th>\n",
       "    </tr>\n",
       "    <tr>\n",
       "      <th>variety</th>\n",
       "      <th></th>\n",
       "    </tr>\n",
       "  </thead>\n",
       "  <tbody>\n",
       "    <tr>\n",
       "      <th>Pinot Noir</th>\n",
       "      <td>12785</td>\n",
       "    </tr>\n",
       "    <tr>\n",
       "      <th>Chardonnay</th>\n",
       "      <td>11077</td>\n",
       "    </tr>\n",
       "    <tr>\n",
       "      <th>Cabernet Sauvignon</th>\n",
       "      <td>9384</td>\n",
       "    </tr>\n",
       "    <tr>\n",
       "      <th>Red Blend</th>\n",
       "      <td>8466</td>\n",
       "    </tr>\n",
       "    <tr>\n",
       "      <th>Bordeaux-style Red Blend</th>\n",
       "      <td>5340</td>\n",
       "    </tr>\n",
       "    <tr>\n",
       "      <th>Riesling</th>\n",
       "      <td>4971</td>\n",
       "    </tr>\n",
       "    <tr>\n",
       "      <th>Sauvignon Blanc</th>\n",
       "      <td>4780</td>\n",
       "    </tr>\n",
       "    <tr>\n",
       "      <th>Syrah</th>\n",
       "      <td>4086</td>\n",
       "    </tr>\n",
       "    <tr>\n",
       "      <th>Rosé</th>\n",
       "      <td>3261</td>\n",
       "    </tr>\n",
       "    <tr>\n",
       "      <th>Merlot</th>\n",
       "      <td>3061</td>\n",
       "    </tr>\n",
       "  </tbody>\n",
       "</table>\n",
       "</div>"
      ],
      "text/plain": [
       "                          title\n",
       "variety                        \n",
       "Pinot Noir                12785\n",
       "Chardonnay                11077\n",
       "Cabernet Sauvignon         9384\n",
       "Red Blend                  8466\n",
       "Bordeaux-style Red Blend   5340\n",
       "Riesling                   4971\n",
       "Sauvignon Blanc            4780\n",
       "Syrah                      4086\n",
       "Rosé                       3261\n",
       "Merlot                     3061"
      ]
     },
     "execution_count": 203,
     "metadata": {},
     "output_type": "execute_result"
    }
   ],
   "source": [
    "df = pd.DataFrame(wine_data.groupby(\"variety\").title.count())\n",
    "mostpopularwines = df.sort_values(by=['title'],ascending=False)\n",
    "mostpopularwines.head(10)\n",
    "\n"
   ]
  },
  {
   "cell_type": "code",
   "execution_count": 213,
   "metadata": {},
   "outputs": [
    {
     "data": {
      "image/png": "[encoded data removed]",
      "text/plain": [
       "<Figure size 432x288 with 1 Axes>"
      ]
     },
     "metadata": {
      "needs_background": "light"
     },
     "output_type": "display_data"
    }
   ],
   "source": [
    "variety = \"Pinot Noir\"\n",
    "wvdf = wine_data.loc[wine_data['variety'] == f\"{variety}\"]\n",
    "j = wvdf[\"description\"]\n",
    "wvdf = []\n",
    "for i in j[0:40]:\n",
    "    split_it = i.split()\n",
    "    for k in split_it:\n",
    "        wvdf.append(k)\n",
    "keywvdf = []\n",
    "for i in wvdf:\n",
    "    if i not in stopwords:\n",
    "        keywvdf.append(i)\n",
    "from collections import Counter\n",
    "Counter = Counter(keywvdf) \n",
    "  \n",
    "# most_common() produces k frequently encountered \n",
    "# input values and their respective counts. \n",
    "most_occur = Counter.most_common(10) \n",
    "most_occur_dict = dict(most_occur)\n",
    "\n",
    "descriptors = most_occur_dict.keys()\n",
    "descriptorcount = most_occur_dict.values()\n",
    "descriptorcount_list=list(descriptorcount)\n",
    "\n",
    "\n",
    "indexes = np.arange(len(descriptors))\n",
    "plt.barh(indexes, descriptorcount_list, align='center', alpha=0.5)\n",
    "plt.yticks(indexes, descriptors)\n",
    "plt.title(f\"Word Frequency: {variety}\")\n",
    "plt.show()"
   ]
  },
  {
   "cell_type": "code",
   "execution_count": 214,
   "metadata": {},
   "outputs": [
    {
     "data": {
      "image/png": "[encoded data removed]",
      "text/plain": [
       "<Figure size 432x288 with 1 Axes>"
      ]
     },
     "metadata": {
      "needs_background": "light"
     },
     "output_type": "display_data"
    }
   ],
   "source": [
    "variety = \"Chardonnay\"\n",
    "wvdf = wine_data.loc[wine_data['variety'] == f\"{variety}\"]\n",
    "j = wvdf[\"description\"]\n",
    "wvdf = []\n",
    "for i in j[0:40]:\n",
    "    split_it = i.split()\n",
    "    for k in split_it:\n",
    "        wvdf.append(k)\n",
    "keywvdf = []\n",
    "for i in wvdf:\n",
    "    if i not in stopwords:\n",
    "        keywvdf.append(i)\n",
    "from collections import Counter\n",
    "Counter = Counter(keywvdf) \n",
    "  \n",
    "# most_common() produces k frequently encountered \n",
    "# input values and their respective counts. \n",
    "most_occur = Counter.most_common(10) \n",
    "most_occur_dict = dict(most_occur)\n",
    "\n",
    "descriptors = most_occur_dict.keys()\n",
    "descriptorcount = most_occur_dict.values()\n",
    "descriptorcount_list=list(descriptorcount)\n",
    "\n",
    "\n",
    "indexes = np.arange(len(descriptors))\n",
    "plt.barh(indexes, descriptorcount_list, align='center', alpha=0.5)\n",
    "plt.yticks(indexes, descriptors)\n",
    "plt.title(f\"Word Frequency: {variety}\")\n",
    "plt.show()"
   ]
  },
  {
   "cell_type": "code",
   "execution_count": 215,
   "metadata": {},
   "outputs": [
    {
     "data": {
      "image/png": "[encoded data removed]",
      "text/plain": [
       "<Figure size 432x288 with 1 Axes>"
      ]
     },
     "metadata": {
      "needs_background": "light"
     },
     "output_type": "display_data"
    }
   ],
   "source": [
    "variety = \"Cabernet Sauvignon\"\n",
    "wvdf = wine_data.loc[wine_data['variety'] == f\"{variety}\"]\n",
    "j = wvdf[\"description\"]\n",
    "wvdf = []\n",
    "for i in j[0:40]:\n",
    "    split_it = i.split()\n",
    "    for k in split_it:\n",
    "        wvdf.append(k)\n",
    "keywvdf = []\n",
    "for i in wvdf:\n",
    "    if i not in stopwords:\n",
    "        keywvdf.append(i)\n",
    "from collections import Counter\n",
    "Counter = Counter(keywvdf) \n",
    "  \n",
    "# most_common() produces k frequently encountered \n",
    "# input values and their respective counts. \n",
    "most_occur = Counter.most_common(10) \n",
    "most_occur_dict = dict(most_occur)\n",
    "\n",
    "descriptors = most_occur_dict.keys()\n",
    "descriptorcount = most_occur_dict.values()\n",
    "descriptorcount_list=list(descriptorcount)\n",
    "\n",
    "\n",
    "indexes = np.arange(len(descriptors))\n",
    "plt.barh(indexes, descriptorcount_list, align='center', alpha=0.5)\n",
    "plt.yticks(indexes, descriptors)\n",
    "plt.title(f\"Word Frequency: {variety}\")\n",
    "plt.show()"
   ]
  },
  {
   "cell_type": "code",
   "execution_count": 216,
   "metadata": {},
   "outputs": [
    {
     "data": {
      "image/png": "[encoded data removed]",
      "text/plain": [
       "<Figure size 432x288 with 1 Axes>"
      ]
     },
     "metadata": {
      "needs_background": "light"
     },
     "output_type": "display_data"
    }
   ],
   "source": [
    "variety = \"Red Blend\"\n",
    "wvdf = wine_data.loc[wine_data['variety'] == f\"{variety}\"]\n",
    "j = wvdf[\"description\"]\n",
    "wvdf = []\n",
    "for i in j[0:40]:\n",
    "    split_it = i.split()\n",
    "    for k in split_it:\n",
    "        wvdf.append(k)\n",
    "keywvdf = []\n",
    "for i in wvdf:\n",
    "    if i not in stopwords:\n",
    "        keywvdf.append(i)\n",
    "from collections import Counter\n",
    "Counter = Counter(keywvdf) \n",
    "  \n",
    "# most_common() produces k frequently encountered \n",
    "# input values and their respective counts. \n",
    "most_occur = Counter.most_common(10) \n",
    "most_occur_dict = dict(most_occur)\n",
    "\n",
    "descriptors = most_occur_dict.keys()\n",
    "descriptorcount = most_occur_dict.values()\n",
    "descriptorcount_list=list(descriptorcount)\n",
    "\n",
    "\n",
    "indexes = np.arange(len(descriptors))\n",
    "plt.barh(indexes, descriptorcount_list, align='center', alpha=0.5)\n",
    "plt.yticks(indexes, descriptors)\n",
    "plt.title(f\"Word Frequency: {variety}\")\n",
    "plt.show()"
   ]
  },
  {
   "cell_type": "code",
   "execution_count": 217,
   "metadata": {},
   "outputs": [
    {
     "data": {
      "image/png": "[encoded data removed]",
      "text/plain": [
       "<Figure size 432x288 with 1 Axes>"
      ]
     },
     "metadata": {
      "needs_background": "light"
     },
     "output_type": "display_data"
    }
   ],
   "source": [
    "variety = \"Bordeaux-style Red Blend\"\n",
    "wvdf = wine_data.loc[wine_data['variety'] == f\"{variety}\"]\n",
    "j = wvdf[\"description\"]\n",
    "wvdf = []\n",
    "for i in j[0:40]:\n",
    "    split_it = i.split()\n",
    "    for k in split_it:\n",
    "        wvdf.append(k)\n",
    "keywvdf = []\n",
    "for i in wvdf:\n",
    "    if i not in stopwords:\n",
    "        keywvdf.append(i)\n",
    "from collections import Counter\n",
    "Counter = Counter(keywvdf) \n",
    "  \n",
    "# most_common() produces k frequently encountered \n",
    "# input values and their respective counts. \n",
    "most_occur = Counter.most_common(10) \n",
    "most_occur_dict = dict(most_occur)\n",
    "\n",
    "descriptors = most_occur_dict.keys()\n",
    "descriptorcount = most_occur_dict.values()\n",
    "descriptorcount_list=list(descriptorcount)\n",
    "\n",
    "\n",
    "indexes = np.arange(len(descriptors))\n",
    "plt.barh(indexes, descriptorcount_list, align='center', alpha=0.5)\n",
    "plt.yticks(indexes, descriptors)\n",
    "plt.title(f\"Word Frequency: {variety}\")\n",
    "plt.show()"
   ]
  },
  {
   "cell_type": "code",
   "execution_count": 218,
   "metadata": {},
   "outputs": [
    {
     "data": {
      "image/png": "[encoded data removed]",
      "text/plain": [
       "<Figure size 432x288 with 1 Axes>"
      ]
     },
     "metadata": {
      "needs_background": "light"
     },
     "output_type": "display_data"
    }
   ],
   "source": [
    "variety = \"Riesling\"\n",
    "wvdf = wine_data.loc[wine_data['variety'] == f\"{variety}\"]\n",
    "j = wvdf[\"description\"]\n",
    "wvdf = []\n",
    "for i in j[0:40]:\n",
    "    split_it = i.split()\n",
    "    for k in split_it:\n",
    "        wvdf.append(k)\n",
    "keywvdf = []\n",
    "for i in wvdf:\n",
    "    if i not in stopwords:\n",
    "        keywvdf.append(i)\n",
    "from collections import Counter\n",
    "Counter = Counter(keywvdf) \n",
    "  \n",
    "# most_common() produces k frequently encountered \n",
    "# input values and their respective counts. \n",
    "most_occur = Counter.most_common(10) \n",
    "most_occur_dict = dict(most_occur)\n",
    "\n",
    "descriptors = most_occur_dict.keys()\n",
    "descriptorcount = most_occur_dict.values()\n",
    "descriptorcount_list=list(descriptorcount)\n",
    "\n",
    "\n",
    "indexes = np.arange(len(descriptors))\n",
    "plt.barh(indexes, descriptorcount_list, align='center', alpha=0.5)\n",
    "plt.yticks(indexes, descriptors)\n",
    "plt.title(f\"Word Frequency: {variety}\")\n",
    "plt.show()"
   ]
  },
  {
   "cell_type": "code",
   "execution_count": 219,
   "metadata": {},
   "outputs": [
    {
     "data": {
      "image/png": "[encoded data removed]",
      "text/plain": [
       "<Figure size 432x288 with 1 Axes>"
      ]
     },
     "metadata": {
      "needs_background": "light"
     },
     "output_type": "display_data"
    }
   ],
   "source": [
    "variety = \"Sauvignon Blanc\"\n",
    "wvdf = wine_data.loc[wine_data['variety'] == f\"{variety}\"]\n",
    "j = wvdf[\"description\"]\n",
    "wvdf = []\n",
    "for i in j[0:40]:\n",
    "    split_it = i.split()\n",
    "    for k in split_it:\n",
    "        wvdf.append(k)\n",
    "keywvdf = []\n",
    "for i in wvdf:\n",
    "    if i not in stopwords:\n",
    "        keywvdf.append(i)\n",
    "from collections import Counter\n",
    "Counter = Counter(keywvdf) \n",
    "  \n",
    "# most_common() produces k frequently encountered \n",
    "# input values and their respective counts. \n",
    "most_occur = Counter.most_common(10) \n",
    "most_occur_dict = dict(most_occur)\n",
    "\n",
    "descriptors = most_occur_dict.keys()\n",
    "descriptorcount = most_occur_dict.values()\n",
    "descriptorcount_list=list(descriptorcount)\n",
    "\n",
    "\n",
    "indexes = np.arange(len(descriptors))\n",
    "plt.barh(indexes, descriptorcount_list, align='center', alpha=0.5)\n",
    "plt.yticks(indexes, descriptors)\n",
    "plt.title(f\"Word Frequency: {variety}\")\n",
    "plt.show()"
   ]
  },
  {
   "cell_type": "code",
   "execution_count": 220,
   "metadata": {},
   "outputs": [
    {
     "data": {
      "image/png": "[encoded data removed]",
      "text/plain": [
       "<Figure size 432x288 with 1 Axes>"
      ]
     },
     "metadata": {
      "needs_background": "light"
     },
     "output_type": "display_data"
    }
   ],
   "source": [
    "variety = \"Syrah\"\n",
    "wvdf = wine_data.loc[wine_data['variety'] == f\"{variety}\"]\n",
    "j = wvdf[\"description\"]\n",
    "wvdf = []\n",
    "for i in j[0:40]:\n",
    "    split_it = i.split()\n",
    "    for k in split_it:\n",
    "        wvdf.append(k)\n",
    "keywvdf = []\n",
    "for i in wvdf:\n",
    "    if i not in stopwords:\n",
    "        keywvdf.append(i)\n",
    "from collections import Counter\n",
    "Counter = Counter(keywvdf) \n",
    "  \n",
    "# most_common() produces k frequently encountered \n",
    "# input values and their respective counts. \n",
    "most_occur = Counter.most_common(10) \n",
    "most_occur_dict = dict(most_occur)\n",
    "\n",
    "descriptors = most_occur_dict.keys()\n",
    "descriptorcount = most_occur_dict.values()\n",
    "descriptorcount_list=list(descriptorcount)\n",
    "\n",
    "\n",
    "indexes = np.arange(len(descriptors))\n",
    "plt.barh(indexes, descriptorcount_list, align='center', alpha=0.5)\n",
    "plt.yticks(indexes, descriptors)\n",
    "plt.title(f\"Word Frequency: {variety}\")\n",
    "plt.show()"
   ]
  },
  {
   "cell_type": "code",
   "execution_count": 222,
   "metadata": {},
   "outputs": [
    {
     "data": {
      "image/png": "[encoded data removed]",
      "text/plain": [
       "<Figure size 432x288 with 1 Axes>"
      ]
     },
     "metadata": {
      "needs_background": "light"
     },
     "output_type": "display_data"
    }
   ],
   "source": [
    "variety = \"Rosé\"\n",
    "wvdf = wine_data.loc[wine_data['variety'] == f\"{variety}\"]\n",
    "j = wvdf[\"description\"]\n",
    "wvdf = []\n",
    "for i in j[0:40]:\n",
    "    split_it = i.split()\n",
    "    for k in split_it:\n",
    "        wvdf.append(k)\n",
    "keywvdf = []\n",
    "for i in wvdf:\n",
    "    if i not in stopwords:\n",
    "        keywvdf.append(i)\n",
    "from collections import Counter\n",
    "Counter = Counter(keywvdf) \n",
    "  \n",
    "# most_common() produces k frequently encountered \n",
    "# input values and their respective counts. \n",
    "most_occur = Counter.most_common(10) \n",
    "most_occur_dict = dict(most_occur)\n",
    "\n",
    "descriptors = most_occur_dict.keys()\n",
    "descriptorcount = most_occur_dict.values()\n",
    "descriptorcount_list=list(descriptorcount)\n",
    "\n",
    "\n",
    "indexes = np.arange(len(descriptors))\n",
    "plt.barh(indexes, descriptorcount_list, align='center', alpha=0.5)\n",
    "plt.yticks(indexes, descriptors)\n",
    "plt.title(f\"Word Frequency: {variety}\")\n",
    "plt.show()"
   ]
  },
  {
   "cell_type": "code",
   "execution_count": 221,
   "metadata": {},
   "outputs": [
    {
     "data": {
      "image/png": "[encoded data removed]",
      "text/plain": [
       "<Figure size 432x288 with 1 Axes>"
      ]
     },
     "metadata": {
      "needs_background": "light"
     },
     "output_type": "display_data"
    }
   ],
   "source": [
    "variety = \"Merlot\"\n",
    "wvdf = wine_data.loc[wine_data['variety'] == f\"{variety}\"]\n",
    "j = wvdf[\"description\"]\n",
    "wvdf = []\n",
    "for i in j[0:40]:\n",
    "    split_it = i.split()\n",
    "    for k in split_it:\n",
    "        wvdf.append(k)\n",
    "keywvdf = []\n",
    "for i in wvdf:\n",
    "    if i not in stopwords:\n",
    "        keywvdf.append(i)\n",
    "from collections import Counter\n",
    "Counter = Counter(keywvdf) \n",
    "  \n",
    "# most_common() produces k frequently encountered \n",
    "# input values and their respective counts. \n",
    "most_occur = Counter.most_common(10) \n",
    "most_occur_dict = dict(most_occur)\n",
    "\n",
    "descriptors = most_occur_dict.keys()\n",
    "descriptorcount = most_occur_dict.values()\n",
    "descriptorcount_list=list(descriptorcount)\n",
    "\n",
    "\n",
    "indexes = np.arange(len(descriptors))\n",
    "plt.barh(indexes, descriptorcount_list, align='center', alpha=0.5)\n",
    "plt.yticks(indexes, descriptors)\n",
    "plt.title(f\"Word Frequency: {variety}\")\n",
    "plt.show()"
   ]
  },
  {
   "cell_type": "code",
   "execution_count": 226,
   "metadata": {},
   "outputs": [
    {
     "ename": "ModuleNotFoundError",
     "evalue": "No module named 'wordcloud'",
     "output_type": "error",
     "traceback": [
      "\u001b[0;31m---------------------------------------------------------------------------\u001b[0m",
      "\u001b[0;31mModuleNotFoundError\u001b[0m                       Traceback (most recent call last)",
      "\u001b[0;32m<ipython-input-226-dc1828f2a80e>\u001b[0m in \u001b[0;36m<module>\u001b[0;34m\u001b[0m\n\u001b[0;32m----> 1\u001b[0;31m \u001b[0;32mimport\u001b[0m \u001b[0mwordcloud\u001b[0m\u001b[0;34m\u001b[0m\u001b[0;34m\u001b[0m\u001b[0m\n\u001b[0m",
      "\u001b[0;31mModuleNotFoundError\u001b[0m: No module named 'wordcloud'"
     ]
    }
   ],
   "source": [
    "import wordcloud"
   ]
  },
  {
   "cell_type": "code",
   "execution_count": null,
   "metadata": {},
   "outputs": [],
   "source": []
  }
 ],
 "metadata": {
  "kernelspec": {
   "display_name": "Python 3",
   "language": "python",
   "name": "python3"
  },
  "language_info": {
   "codemirror_mode": {
    "name": "ipython",
    "version": 3
   },
   "file_extension": ".py",
   "mimetype": "text/x-python",
   "name": "python",
   "nbconvert_exporter": "python",
   "pygments_lexer": "ipython3",
   "version": "3.7.2"
  }
 },
 "nbformat": 4,
 "nbformat_minor": 2
}
