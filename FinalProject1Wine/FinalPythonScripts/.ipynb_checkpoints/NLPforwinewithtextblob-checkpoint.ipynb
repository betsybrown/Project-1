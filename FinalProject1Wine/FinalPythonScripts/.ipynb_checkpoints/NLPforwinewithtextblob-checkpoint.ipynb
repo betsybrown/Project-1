{
 "cells": [
  {
   "cell_type": "code",
   "execution_count": 1,
   "metadata": {},
   "outputs": [],
   "source": [
    "from textblob.classifiers import NaiveBayesClassifier\n",
    "\n",
    "train = [\n",
    "    ('I love this sandwich.', 'pos'),\n",
    "    ('This is an amazing place!', 'pos'),\n",
    "    ('I feel very good about these beers.', 'pos'),\n",
    "    ('This is my best work.', 'pos'),\n",
    "    (\"What an awesome view\", 'pos'),\n",
    "    ('I do not like this restaurant', 'neg'),\n",
    "    ('I am tired of this stuff.', 'neg'),\n",
    "    (\"I can't deal with this\", 'neg'),\n",
    "    ('He is my sworn enemy!', 'neg'),\n",
    "    ('My boss is horrible.', 'neg')\n",
    "]\n",
    "test = [\n",
    "    ('The beer was good.', 'pos'),\n",
    "    ('I do not enjoy my job', 'neg'),\n",
    "    (\"I ain't feeling dandy today.\", 'neg'),\n",
    "    (\"I feel amazing!\", 'pos'),\n",
    "    ('Gary is a friend of mine.', 'pos'),\n",
    "    (\"I can't believe I'm doing this.\", 'neg')\n",
    "]"
   ]
  },
  {
   "cell_type": "code",
   "execution_count": 2,
   "metadata": {},
   "outputs": [],
   "source": [
    "cl = NaiveBayesClassifier(train)"
   ]
  },
  {
   "cell_type": "code",
   "execution_count": 3,
   "metadata": {},
   "outputs": [
    {
     "data": {
      "text/plain": [
       "'pos'"
      ]
     },
     "execution_count": 3,
     "metadata": {},
     "output_type": "execute_result"
    }
   ],
   "source": [
    "cl.classify(\"Their burgers are amazing\")"
   ]
  },
  {
   "cell_type": "code",
   "execution_count": 4,
   "metadata": {},
   "outputs": [
    {
     "data": {
      "text/plain": [
       "'neg'"
      ]
     },
     "execution_count": 4,
     "metadata": {},
     "output_type": "execute_result"
    }
   ],
   "source": [
    "cl.classify(\"I don't like their pizza.\")"
   ]
  },
  {
   "cell_type": "code",
   "execution_count": 5,
   "metadata": {},
   "outputs": [],
   "source": [
    "from textblob.classifiers import NaiveBayesClassifier\n",
    "import pandas as pd\n",
    "import numpy as np\n",
    "\n",
    "wine_data_to_load = \"/Users/kurtshiple/Desktop/Project1/projectcsvs/wine-reviews/winemag-data-130k-v2.csv\"\n",
    "\n",
    "wine_data = pd.read_csv(wine_data_to_load)"
   ]
  },
  {
   "cell_type": "code",
   "execution_count": 6,
   "metadata": {},
   "outputs": [
    {
     "data": {
      "text/html": [
       "<div>\n",
       "<style scoped>\n",
       "    .dataframe tbody tr th:only-of-type {\n",
       "        vertical-align: middle;\n",
       "    }\n",
       "\n",
       "    .dataframe tbody tr th {\n",
       "        vertical-align: top;\n",
       "    }\n",
       "\n",
       "    .dataframe thead th {\n",
       "        text-align: right;\n",
       "    }\n",
       "</style>\n",
       "<table border=\"1\" class=\"dataframe\">\n",
       "  <thead>\n",
       "    <tr style=\"text-align: right;\">\n",
       "      <th></th>\n",
       "      <th>Unnamed: 0</th>\n",
       "      <th>country</th>\n",
       "      <th>description</th>\n",
       "      <th>designation</th>\n",
       "      <th>points</th>\n",
       "      <th>price</th>\n",
       "      <th>province</th>\n",
       "      <th>region_1</th>\n",
       "      <th>region_2</th>\n",
       "      <th>taster_name</th>\n",
       "      <th>taster_twitter_handle</th>\n",
       "      <th>title</th>\n",
       "      <th>variety</th>\n",
       "      <th>winery</th>\n",
       "    </tr>\n",
       "  </thead>\n",
       "  <tbody>\n",
       "    <tr>\n",
       "      <th>0</th>\n",
       "      <td>0</td>\n",
       "      <td>Italy</td>\n",
       "      <td>Aromas include tropical fruit, broom, brimston...</td>\n",
       "      <td>Vulkà Bianco</td>\n",
       "      <td>87</td>\n",
       "      <td>NaN</td>\n",
       "      <td>Sicily &amp; Sardinia</td>\n",
       "      <td>Etna</td>\n",
       "      <td>NaN</td>\n",
       "      <td>Kerin O’Keefe</td>\n",
       "      <td>@kerinokeefe</td>\n",
       "      <td>Nicosia 2013 Vulkà Bianco  (Etna)</td>\n",
       "      <td>White Blend</td>\n",
       "      <td>Nicosia</td>\n",
       "    </tr>\n",
       "    <tr>\n",
       "      <th>1</th>\n",
       "      <td>1</td>\n",
       "      <td>Portugal</td>\n",
       "      <td>This is ripe and fruity, a wine that is smooth...</td>\n",
       "      <td>Avidagos</td>\n",
       "      <td>87</td>\n",
       "      <td>15.0</td>\n",
       "      <td>Douro</td>\n",
       "      <td>NaN</td>\n",
       "      <td>NaN</td>\n",
       "      <td>Roger Voss</td>\n",
       "      <td>@vossroger</td>\n",
       "      <td>Quinta dos Avidagos 2011 Avidagos Red (Douro)</td>\n",
       "      <td>Portuguese Red</td>\n",
       "      <td>Quinta dos Avidagos</td>\n",
       "    </tr>\n",
       "    <tr>\n",
       "      <th>2</th>\n",
       "      <td>2</td>\n",
       "      <td>US</td>\n",
       "      <td>Tart and snappy, the flavors of lime flesh and...</td>\n",
       "      <td>NaN</td>\n",
       "      <td>87</td>\n",
       "      <td>14.0</td>\n",
       "      <td>Oregon</td>\n",
       "      <td>Willamette Valley</td>\n",
       "      <td>Willamette Valley</td>\n",
       "      <td>Paul Gregutt</td>\n",
       "      <td>@paulgwine</td>\n",
       "      <td>Rainstorm 2013 Pinot Gris (Willamette Valley)</td>\n",
       "      <td>Pinot Gris</td>\n",
       "      <td>Rainstorm</td>\n",
       "    </tr>\n",
       "    <tr>\n",
       "      <th>3</th>\n",
       "      <td>3</td>\n",
       "      <td>US</td>\n",
       "      <td>Pineapple rind, lemon pith and orange blossom ...</td>\n",
       "      <td>Reserve Late Harvest</td>\n",
       "      <td>87</td>\n",
       "      <td>13.0</td>\n",
       "      <td>Michigan</td>\n",
       "      <td>Lake Michigan Shore</td>\n",
       "      <td>NaN</td>\n",
       "      <td>Alexander Peartree</td>\n",
       "      <td>NaN</td>\n",
       "      <td>St. Julian 2013 Reserve Late Harvest Riesling ...</td>\n",
       "      <td>Riesling</td>\n",
       "      <td>St. Julian</td>\n",
       "    </tr>\n",
       "    <tr>\n",
       "      <th>4</th>\n",
       "      <td>4</td>\n",
       "      <td>US</td>\n",
       "      <td>Much like the regular bottling from 2012, this...</td>\n",
       "      <td>Vintner's Reserve Wild Child Block</td>\n",
       "      <td>87</td>\n",
       "      <td>65.0</td>\n",
       "      <td>Oregon</td>\n",
       "      <td>Willamette Valley</td>\n",
       "      <td>Willamette Valley</td>\n",
       "      <td>Paul Gregutt</td>\n",
       "      <td>@paulgwine</td>\n",
       "      <td>Sweet Cheeks 2012 Vintner's Reserve Wild Child...</td>\n",
       "      <td>Pinot Noir</td>\n",
       "      <td>Sweet Cheeks</td>\n",
       "    </tr>\n",
       "  </tbody>\n",
       "</table>\n",
       "</div>"
      ],
      "text/plain": [
       "   Unnamed: 0   country                                        description  \\\n",
       "0           0     Italy  Aromas include tropical fruit, broom, brimston...   \n",
       "1           1  Portugal  This is ripe and fruity, a wine that is smooth...   \n",
       "2           2        US  Tart and snappy, the flavors of lime flesh and...   \n",
       "3           3        US  Pineapple rind, lemon pith and orange blossom ...   \n",
       "4           4        US  Much like the regular bottling from 2012, this...   \n",
       "\n",
       "                          designation  points  price           province  \\\n",
       "0                        Vulkà Bianco      87    NaN  Sicily & Sardinia   \n",
       "1                            Avidagos      87   15.0              Douro   \n",
       "2                                 NaN      87   14.0             Oregon   \n",
       "3                Reserve Late Harvest      87   13.0           Michigan   \n",
       "4  Vintner's Reserve Wild Child Block      87   65.0             Oregon   \n",
       "\n",
       "              region_1           region_2         taster_name  \\\n",
       "0                 Etna                NaN       Kerin O’Keefe   \n",
       "1                  NaN                NaN          Roger Voss   \n",
       "2    Willamette Valley  Willamette Valley        Paul Gregutt   \n",
       "3  Lake Michigan Shore                NaN  Alexander Peartree   \n",
       "4    Willamette Valley  Willamette Valley        Paul Gregutt   \n",
       "\n",
       "  taster_twitter_handle                                              title  \\\n",
       "0          @kerinokeefe                  Nicosia 2013 Vulkà Bianco  (Etna)   \n",
       "1            @vossroger      Quinta dos Avidagos 2011 Avidagos Red (Douro)   \n",
       "2           @paulgwine       Rainstorm 2013 Pinot Gris (Willamette Valley)   \n",
       "3                   NaN  St. Julian 2013 Reserve Late Harvest Riesling ...   \n",
       "4           @paulgwine   Sweet Cheeks 2012 Vintner's Reserve Wild Child...   \n",
       "\n",
       "          variety               winery  \n",
       "0     White Blend              Nicosia  \n",
       "1  Portuguese Red  Quinta dos Avidagos  \n",
       "2      Pinot Gris            Rainstorm  \n",
       "3        Riesling           St. Julian  \n",
       "4      Pinot Noir         Sweet Cheeks  "
      ]
     },
     "execution_count": 6,
     "metadata": {},
     "output_type": "execute_result"
    }
   ],
   "source": [
    "wine_data.head()"
   ]
  },
  {
   "cell_type": "code",
   "execution_count": 7,
   "metadata": {},
   "outputs": [
    {
     "data": {
      "text/html": [
       "<div>\n",
       "<style scoped>\n",
       "    .dataframe tbody tr th:only-of-type {\n",
       "        vertical-align: middle;\n",
       "    }\n",
       "\n",
       "    .dataframe tbody tr th {\n",
       "        vertical-align: top;\n",
       "    }\n",
       "\n",
       "    .dataframe thead th {\n",
       "        text-align: right;\n",
       "    }\n",
       "</style>\n",
       "<table border=\"1\" class=\"dataframe\">\n",
       "  <thead>\n",
       "    <tr style=\"text-align: right;\">\n",
       "      <th></th>\n",
       "      <th>country</th>\n",
       "      <th>description</th>\n",
       "      <th>points</th>\n",
       "      <th>price</th>\n",
       "      <th>variety</th>\n",
       "    </tr>\n",
       "  </thead>\n",
       "  <tbody>\n",
       "    <tr>\n",
       "      <th>0</th>\n",
       "      <td>Italy</td>\n",
       "      <td>Aromas include tropical fruit, broom, brimston...</td>\n",
       "      <td>87</td>\n",
       "      <td>NaN</td>\n",
       "      <td>White Blend</td>\n",
       "    </tr>\n",
       "    <tr>\n",
       "      <th>1</th>\n",
       "      <td>Portugal</td>\n",
       "      <td>This is ripe and fruity, a wine that is smooth...</td>\n",
       "      <td>87</td>\n",
       "      <td>15.0</td>\n",
       "      <td>Portuguese Red</td>\n",
       "    </tr>\n",
       "    <tr>\n",
       "      <th>2</th>\n",
       "      <td>US</td>\n",
       "      <td>Tart and snappy, the flavors of lime flesh and...</td>\n",
       "      <td>87</td>\n",
       "      <td>14.0</td>\n",
       "      <td>Pinot Gris</td>\n",
       "    </tr>\n",
       "    <tr>\n",
       "      <th>3</th>\n",
       "      <td>US</td>\n",
       "      <td>Pineapple rind, lemon pith and orange blossom ...</td>\n",
       "      <td>87</td>\n",
       "      <td>13.0</td>\n",
       "      <td>Riesling</td>\n",
       "    </tr>\n",
       "    <tr>\n",
       "      <th>4</th>\n",
       "      <td>US</td>\n",
       "      <td>Much like the regular bottling from 2012, this...</td>\n",
       "      <td>87</td>\n",
       "      <td>65.0</td>\n",
       "      <td>Pinot Noir</td>\n",
       "    </tr>\n",
       "    <tr>\n",
       "      <th>5</th>\n",
       "      <td>Spain</td>\n",
       "      <td>Blackberry and raspberry aromas show a typical...</td>\n",
       "      <td>87</td>\n",
       "      <td>15.0</td>\n",
       "      <td>Tempranillo-Merlot</td>\n",
       "    </tr>\n",
       "    <tr>\n",
       "      <th>6</th>\n",
       "      <td>Italy</td>\n",
       "      <td>Here's a bright, informal red that opens with ...</td>\n",
       "      <td>87</td>\n",
       "      <td>16.0</td>\n",
       "      <td>Frappato</td>\n",
       "    </tr>\n",
       "    <tr>\n",
       "      <th>7</th>\n",
       "      <td>France</td>\n",
       "      <td>This dry and restrained wine offers spice in p...</td>\n",
       "      <td>87</td>\n",
       "      <td>24.0</td>\n",
       "      <td>Gewürztraminer</td>\n",
       "    </tr>\n",
       "    <tr>\n",
       "      <th>8</th>\n",
       "      <td>Germany</td>\n",
       "      <td>Savory dried thyme notes accent sunnier flavor...</td>\n",
       "      <td>87</td>\n",
       "      <td>12.0</td>\n",
       "      <td>Gewürztraminer</td>\n",
       "    </tr>\n",
       "    <tr>\n",
       "      <th>9</th>\n",
       "      <td>France</td>\n",
       "      <td>This has great depth of flavor with its fresh ...</td>\n",
       "      <td>87</td>\n",
       "      <td>27.0</td>\n",
       "      <td>Pinot Gris</td>\n",
       "    </tr>\n",
       "    <tr>\n",
       "      <th>10</th>\n",
       "      <td>US</td>\n",
       "      <td>Soft, supple plum envelopes an oaky structure ...</td>\n",
       "      <td>87</td>\n",
       "      <td>19.0</td>\n",
       "      <td>Cabernet Sauvignon</td>\n",
       "    </tr>\n",
       "    <tr>\n",
       "      <th>11</th>\n",
       "      <td>France</td>\n",
       "      <td>This is a dry wine, very spicy, with a tight, ...</td>\n",
       "      <td>87</td>\n",
       "      <td>30.0</td>\n",
       "      <td>Gewürztraminer</td>\n",
       "    </tr>\n",
       "    <tr>\n",
       "      <th>12</th>\n",
       "      <td>US</td>\n",
       "      <td>Slightly reduced, this wine offers a chalky, t...</td>\n",
       "      <td>87</td>\n",
       "      <td>34.0</td>\n",
       "      <td>Cabernet Sauvignon</td>\n",
       "    </tr>\n",
       "    <tr>\n",
       "      <th>13</th>\n",
       "      <td>Italy</td>\n",
       "      <td>This is dominated by oak and oak-driven aromas...</td>\n",
       "      <td>87</td>\n",
       "      <td>NaN</td>\n",
       "      <td>Nerello Mascalese</td>\n",
       "    </tr>\n",
       "    <tr>\n",
       "      <th>14</th>\n",
       "      <td>US</td>\n",
       "      <td>Building on 150 years and six generations of w...</td>\n",
       "      <td>87</td>\n",
       "      <td>12.0</td>\n",
       "      <td>Chardonnay</td>\n",
       "    </tr>\n",
       "    <tr>\n",
       "      <th>15</th>\n",
       "      <td>Germany</td>\n",
       "      <td>Zesty orange peels and apple notes abound in t...</td>\n",
       "      <td>87</td>\n",
       "      <td>24.0</td>\n",
       "      <td>Riesling</td>\n",
       "    </tr>\n",
       "    <tr>\n",
       "      <th>16</th>\n",
       "      <td>Argentina</td>\n",
       "      <td>Baked plum, molasses, balsamic vinegar and che...</td>\n",
       "      <td>87</td>\n",
       "      <td>30.0</td>\n",
       "      <td>Malbec</td>\n",
       "    </tr>\n",
       "    <tr>\n",
       "      <th>17</th>\n",
       "      <td>Argentina</td>\n",
       "      <td>Raw black-cherry aromas are direct and simple ...</td>\n",
       "      <td>87</td>\n",
       "      <td>13.0</td>\n",
       "      <td>Malbec</td>\n",
       "    </tr>\n",
       "    <tr>\n",
       "      <th>18</th>\n",
       "      <td>Spain</td>\n",
       "      <td>Desiccated blackberry, leather, charred wood a...</td>\n",
       "      <td>87</td>\n",
       "      <td>28.0</td>\n",
       "      <td>Tempranillo Blend</td>\n",
       "    </tr>\n",
       "    <tr>\n",
       "      <th>19</th>\n",
       "      <td>US</td>\n",
       "      <td>Red fruit aromas pervade on the nose, with cig...</td>\n",
       "      <td>87</td>\n",
       "      <td>32.0</td>\n",
       "      <td>Meritage</td>\n",
       "    </tr>\n",
       "  </tbody>\n",
       "</table>\n",
       "</div>"
      ],
      "text/plain": [
       "      country                                        description  points  \\\n",
       "0       Italy  Aromas include tropical fruit, broom, brimston...      87   \n",
       "1    Portugal  This is ripe and fruity, a wine that is smooth...      87   \n",
       "2          US  Tart and snappy, the flavors of lime flesh and...      87   \n",
       "3          US  Pineapple rind, lemon pith and orange blossom ...      87   \n",
       "4          US  Much like the regular bottling from 2012, this...      87   \n",
       "5       Spain  Blackberry and raspberry aromas show a typical...      87   \n",
       "6       Italy  Here's a bright, informal red that opens with ...      87   \n",
       "7      France  This dry and restrained wine offers spice in p...      87   \n",
       "8     Germany  Savory dried thyme notes accent sunnier flavor...      87   \n",
       "9      France  This has great depth of flavor with its fresh ...      87   \n",
       "10         US  Soft, supple plum envelopes an oaky structure ...      87   \n",
       "11     France  This is a dry wine, very spicy, with a tight, ...      87   \n",
       "12         US  Slightly reduced, this wine offers a chalky, t...      87   \n",
       "13      Italy  This is dominated by oak and oak-driven aromas...      87   \n",
       "14         US  Building on 150 years and six generations of w...      87   \n",
       "15    Germany  Zesty orange peels and apple notes abound in t...      87   \n",
       "16  Argentina  Baked plum, molasses, balsamic vinegar and che...      87   \n",
       "17  Argentina  Raw black-cherry aromas are direct and simple ...      87   \n",
       "18      Spain  Desiccated blackberry, leather, charred wood a...      87   \n",
       "19         US  Red fruit aromas pervade on the nose, with cig...      87   \n",
       "\n",
       "    price             variety  \n",
       "0     NaN         White Blend  \n",
       "1    15.0      Portuguese Red  \n",
       "2    14.0          Pinot Gris  \n",
       "3    13.0            Riesling  \n",
       "4    65.0          Pinot Noir  \n",
       "5    15.0  Tempranillo-Merlot  \n",
       "6    16.0            Frappato  \n",
       "7    24.0      Gewürztraminer  \n",
       "8    12.0      Gewürztraminer  \n",
       "9    27.0          Pinot Gris  \n",
       "10   19.0  Cabernet Sauvignon  \n",
       "11   30.0      Gewürztraminer  \n",
       "12   34.0  Cabernet Sauvignon  \n",
       "13    NaN   Nerello Mascalese  \n",
       "14   12.0          Chardonnay  \n",
       "15   24.0            Riesling  \n",
       "16   30.0              Malbec  \n",
       "17   13.0              Malbec  \n",
       "18   28.0   Tempranillo Blend  \n",
       "19   32.0            Meritage  "
      ]
     },
     "execution_count": 7,
     "metadata": {},
     "output_type": "execute_result"
    }
   ],
   "source": [
    "del wine_data[\"title\"]\n",
    "del wine_data[\"winery\"]\n",
    "del wine_data[\"designation\"]\n",
    "del wine_data[\"province\"]\n",
    "del wine_data[\"region_1\"]\n",
    "del wine_data[\"region_2\"]\n",
    "del wine_data[\"taster_name\"]\n",
    "del wine_data[\"taster_twitter_handle\"]\n",
    "del wine_data[\"Unnamed: 0\"]\n",
    "\n",
    "wine_data.head(20)"
   ]
  },
  {
   "cell_type": "code",
   "execution_count": 8,
   "metadata": {},
   "outputs": [],
   "source": [
    "#df[(df['Train'] != 'DeutscheBahn') & (df['Train'] != 'SNCF')]\n",
    "#df[df.name != 'Tina']\n",
    "#df = wine_data[(wine_data['variety'] == 'Pinot Noir') \n",
    "#df = wine_data[(wine_data['variety'] == 'Pinot Noir') & (wine_data['variety'] == 'Chardonnay')]\n",
    "#df\n",
    "df = wine_data[wine_data['variety'].isin(['Pinot Noir', 'Chardonnay'])]"
   ]
  },
  {
   "cell_type": "code",
   "execution_count": 20,
   "metadata": {},
   "outputs": [
    {
     "data": {
      "text/plain": [
       "20"
      ]
     },
     "execution_count": 20,
     "metadata": {},
     "output_type": "execute_result"
    }
   ],
   "source": [
    "\n",
    "\n",
    "msk = np.random.rand(len(df)) < 0.001\n",
    "\n",
    "train = df[msk]\n",
    "len(train)\n",
    "\n",
    "test = df[~msk]\n",
    "len(train)\n"
   ]
  },
  {
   "cell_type": "code",
   "execution_count": 21,
   "metadata": {},
   "outputs": [
    {
     "data": {
      "text/plain": [
       "[(\"There's 10% Zinfandel blended into this wine, but looking at my notes, I never would've thought so. The pale color is all Pinot Noir, as are the aromas of earth and tomato (the vanilla comes from the French oak barrels). It's light and crisp, with a tart finish.\",\n",
       "  'Pinot Noir'),\n",
       " (\"This cuvée features grapes from some of the vineyard's oldest vines. It's a light, elegant mix of pomegranate and cherry pie flavors with plenty of natural acidity behind it. Cola and dried herb highlights add complexity, and a persistent minerality buoys the finish.\",\n",
       "  'Pinot Noir'),\n",
       " ('A négociant wine, sharp and spicy, with vivid acidity and some real punch in the midpalate. The flavors suggest thistle and fern – real Northwest fare – rather than riper fruit. It sets up well in the mouth and despite alcohol listed at just 12.5%, has good presence and power.',\n",
       "  'Chardonnay'),\n",
       " (\"Choosing favorites among Kumeu River's Chardonnays is always difficult. The 2013 Maté's is potentially the longest lived of this year's releases, showcasing tight, crisp citrus fruit garnished with hints of butter, tropical fruit and mocha-like oak. Drink 2018–2025.\",\n",
       "  'Chardonnay'),\n",
       " ('This wine hails from an estate that dates back to 1978, but was more recently purchased by San Luis Obispo developer Rob Rossi and Raytheon CEO Bill Swanson. They assembled a “dream team” of grower Kevin Wilkinson (of Talley Vineyards and Coastal Vineyard Services) and winemakers Mike Sinor and Nathan Carlson. The wine boasts a lifting nose of cream, hazelnut and baked apples, then dances across the palate with lemon-zest and flint flavors.',\n",
       "  'Chardonnay'),\n",
       " (\"MacRostie's Wildcat Mountain Pinot is always an interesting wine, but it's vintage-driven, and this 2010 shows challenges. There's a vegetal, mushroomy streak to the raspberry fruit that makes the palate recoil. Compared to the lush 2009, it's a disappointment.\",\n",
       "  'Pinot Noir'),\n",
       " ('Apple and melon aromas are basic. This feels round, with moderate acidity. Flavors of citrus, peach and nectarine are competent, while the finish takes on a salty note as it loses its fruit character.',\n",
       "  'Chardonnay'),\n",
       " ('The aromas of Gala apple and hazelnut seem a bit wooly, but they gain in concentration on the medium-bodied palate. Energetic acids drive the hazelnut-tinged finish.',\n",
       "  'Chardonnay'),\n",
       " ('This is a fresh while also rich wine. Yellow fruits are laced with appealing acidity and a crisp lemon zest texture. Lively, fruity and mineral, it is ready to drink.',\n",
       "  'Chardonnay'),\n",
       " ('Dark fruit shows on the palate in this exotically spiced and floral blend from several vineyards, including Sangiacomo Roberts Road. Soft and medium in weight, it has high-toned acidity underneath the brooding spice and forest floor.',\n",
       "  'Pinot Noir'),\n",
       " ('This stellar unoaked version of the variety, nicely priced, opens with sweet aromas of honeysuckle and jasmine. From there, bristling acidity leads down a road of stone fruit, apple and quince, with a savory twist of ginger on the finish.',\n",
       "  'Chardonnay'),\n",
       " ('Produced from Grand Cru vineyards on the Montagne de Reims, this wine is rich, dry and tightly structured. A mineral texture gives a steely edge that is balanced by perfumed fruit with apple and creamed pear flavors.',\n",
       "  'Pinot Noir'),\n",
       " ('This wine offers ripe yellow fruits and soft acidity. A honeyed character adds to the richness and generous character of this warm wine that is lightly cut by acidity at the end.',\n",
       "  'Chardonnay'),\n",
       " (\"Cola, Dr. Pepper, cherry coke all come to mind, as this has a strong emphasis on those flavors, or sassafras as some define them. It's tasty, forward and light, with a lightly herbal aftertaste. Perfectly pleasant, though not showing much depth.\",\n",
       "  'Pinot Noir'),\n",
       " (\"You'll find lovely, complex flavors of raspberries, cherries, red currants, spices and smoky vanilla notes from oak in this dry, pleasant wine. It's also very tart, biting into the palate with a cut of acidity, which seems to be a trait of the vintage. Good now, if a little direct.\",\n",
       "  'Pinot Noir'),\n",
       " (\"A blend of various vineyards from the far or “true” Sonoma Coast, and also Hartford Court's highest-production Pinot Noir. Always beautiful and balanced, the '07 in particular is remarkable for its silky tannins and overall seamless quality. Really excites for the complexity of currant, cola, licorice and cedar flavors. Now through 2013.\",\n",
       "  'Pinot Noir'),\n",
       " (\"They used wild yeasts to ferment this Chard, and there is something exotic and feral about the flavors, which go beyond nectarines and pears into fruits without names. It's missing some crispness, but shows richness and opulence.\",\n",
       "  'Chardonnay'),\n",
       " ('Granular citrus aromas define the bouquet on this wine. It feels soft, with just enough acidity to avoid flabbiness. Banana and pithy citrus flavors set up a basic finish with lasting bitterness.',\n",
       "  'Chardonnay'),\n",
       " ('This medium-bodied wine is taut, firm and wiry. Floral notes dress up black cherries and vanilla before ending on a crisp, slightly edgy note. Give it another year or two to round into form and drink it through 2021.',\n",
       "  'Pinot Noir'),\n",
       " (\"Soft and creamy, this wine has a line of acidity that gives it great lift. Lime and ripe apples go with green plums to give both freshness and a tangy character. It's a wine to age a few months; drink from 2016.\",\n",
       "  'Chardonnay')]"
      ]
     },
     "execution_count": 21,
     "metadata": {},
     "output_type": "execute_result"
    }
   ],
   "source": [
    "traintuplecol = list(zip(train.description, train.variety))\n",
    "traintuplecol"
   ]
  },
  {
   "cell_type": "code",
   "execution_count": 22,
   "metadata": {},
   "outputs": [],
   "source": [
    "cl = NaiveBayesClassifier(traintuplecol)"
   ]
  },
  {
   "cell_type": "code",
   "execution_count": 31,
   "metadata": {},
   "outputs": [
    {
     "data": {
      "text/plain": [
       "[(\"Much like the regular bottling from 2012, this comes across as rather rough and tannic, with rustic, earthy, herbal characteristics. Nonetheless, if you think of it as a pleasantly unfussy country wine, it's a good companion to a hearty winter stew.\",\n",
       "  'Pinot Noir'),\n",
       " ('Building on 150 years and six generations of winemaking tradition, the winery trends toward a leaner style, with the classic California buttercream aroma cut by tart green apple. In this good everyday sipping wine, flavors that range from pear to barely ripe pineapple prove approachable but not distinctive.',\n",
       "  'Chardonnay'),\n",
       " ('A sleek mix of tart berry, stem and herb, along with a hint of oak and chocolate, this is a fair value in a widely available, drink-now Oregon Pinot. The wine oak-aged for six months, whether in neutral or re-staved is not indicated.',\n",
       "  'Pinot Noir'),\n",
       " ('Oak and earth intermingle around robust aromas of wet forest floor in this vineyard-designated Pinot that hails from a high-elevation site. Small in production, it offers intense, full-bodied raspberry and blackberry steeped in smoky spice and smooth texture.',\n",
       "  'Pinot Noir'),\n",
       " ('As with many of the Erath 2010 vineyard designates, this is strongly herbal. The notes of leaf and herb create somewhat unripe flavor impressions, with a touch of bitterness on the finish. The fruit just passes the ripeness of sweet tomatoes.',\n",
       "  'Pinot Noir')]"
      ]
     },
     "execution_count": 31,
     "metadata": {},
     "output_type": "execute_result"
    }
   ],
   "source": [
    "testtuplecol = list(zip(test.description, test.variety))\n",
    "testtuplecol[0:5]"
   ]
  },
  {
   "cell_type": "code",
   "execution_count": 24,
   "metadata": {},
   "outputs": [
    {
     "data": {
      "text/plain": [
       "'Pinot Noir'"
      ]
     },
     "execution_count": 24,
     "metadata": {},
     "output_type": "execute_result"
    }
   ],
   "source": [
    "cl.classify(\"Oak and earth intermingle around robust aromas of wet forest floor in this vineyard-designated Pinot that hails from a high-elevation site. Small in production, it offers intense, full-bodied raspberry and blackberry steeped in smoky spice and smooth texture.\")"
   ]
  },
  {
   "cell_type": "code",
   "execution_count": 25,
   "metadata": {},
   "outputs": [
    {
     "data": {
      "text/plain": [
       "'Chardonnay'"
      ]
     },
     "execution_count": 25,
     "metadata": {},
     "output_type": "execute_result"
    }
   ],
   "source": [
    "cl.classify(\"Building on 150 years and six generations of winemaking tradition, the winery trends toward a leaner style, with the classic California buttercream aroma cut by tart green apple. In this good everyday sipping wine, flavors that range from pear to barely ripe pineapple prove approachable but not distinctive.\")"
   ]
  },
  {
   "cell_type": "code",
   "execution_count": 37,
   "metadata": {},
   "outputs": [
    {
     "data": {
      "text/plain": [
       "0.668"
      ]
     },
     "execution_count": 37,
     "metadata": {},
     "output_type": "execute_result"
    }
   ],
   "source": [
    "cl.accuracy(testtuplecol[0:1000])\n"
   ]
  },
  {
   "cell_type": "code",
   "execution_count": 39,
   "metadata": {},
   "outputs": [
    {
     "name": "stdout",
     "output_type": "stream",
     "text": [
      "Most Informative Features\n",
      "          contains(from) = True           Pinot  : Chardo =      3.1 : 1.0\n",
      "          contains(into) = True           Pinot  : Chardo =      2.8 : 1.0\n",
      "           contains(The) = True           Chardo : Pinot  =      2.5 : 1.0\n",
      "        contains(aromas) = True           Chardo : Pinot  =      2.5 : 1.0\n",
      "          contains(from) = False          Chardo : Pinot  =      2.3 : 1.0\n",
      "         contains(shows) = True           Pinot  : Chardo =      2.0 : 1.0\n",
      "            contains(as) = True           Pinot  : Chardo =      2.0 : 1.0\n",
      "          contains(also) = True           Pinot  : Chardo =      2.0 : 1.0\n",
      "           contains(oak) = True           Pinot  : Chardo =      2.0 : 1.0\n",
      "          contains(This) = True           Chardo : Pinot  =      1.8 : 1.0\n",
      "       contains(acidity) = True           Chardo : Pinot  =      1.8 : 1.0\n",
      "       contains(acidity) = False          Pinot  : Chardo =      1.7 : 1.0\n",
      "            contains(in) = True           Pinot  : Chardo =      1.7 : 1.0\n",
      "        contains(palate) = True           Pinot  : Chardo =      1.7 : 1.0\n",
      "          contains(this) = False          Chardo : Pinot  =      1.5 : 1.0\n",
      "          contains(with) = False          Pinot  : Chardo =      1.5 : 1.0\n",
      "            contains(it) = True           Pinot  : Chardo =      1.5 : 1.0\n",
      "        contains(finish) = True           Chardo : Pinot  =      1.5 : 1.0\n",
      "             contains(a) = False          Chardo : Pinot  =      1.5 : 1.0\n",
      "         contains(Pinot) = False          Chardo : Pinot  =      1.5 : 1.0\n",
      "         contains(notes) = False          Chardo : Pinot  =      1.5 : 1.0\n",
      "     contains(vineyards) = False          Chardo : Pinot  =      1.5 : 1.0\n",
      "         contains(light) = False          Chardo : Pinot  =      1.5 : 1.0\n",
      "       contains(vanilla) = False          Chardo : Pinot  =      1.5 : 1.0\n",
      "            contains(or) = False          Chardo : Pinot  =      1.5 : 1.0\n",
      "       contains(flavors) = True           Pinot  : Chardo =      1.5 : 1.0\n",
      "            contains(of) = False          Pinot  : Chardo =      1.5 : 1.0\n",
      "            contains(is) = True           Pinot  : Chardo =      1.5 : 1.0\n",
      "          contains(this) = True           Pinot  : Chardo =      1.4 : 1.0\n",
      "            contains(is) = False          Chardo : Pinot  =      1.4 : 1.0\n"
     ]
    }
   ],
   "source": [
    "cl.show_informative_features(30)"
   ]
  },
  {
   "cell_type": "code",
   "execution_count": 41,
   "metadata": {},
   "outputs": [
    {
     "name": "stdout",
     "output_type": "stream",
     "text": [
      "How would you describe this wine?:  it has aromas of oak and berry\n"
     ]
    },
    {
     "data": {
      "text/plain": [
       "'Chardonnay'"
      ]
     },
     "execution_count": 41,
     "metadata": {},
     "output_type": "execute_result"
    }
   ],
   "source": [
    "x = input(\"How would you describe this wine?:  \")\n",
    "cl.classify(x)"
   ]
  },
  {
   "cell_type": "code",
   "execution_count": null,
   "metadata": {},
   "outputs": [],
   "source": []
  }
 ],
 "metadata": {
  "kernelspec": {
   "display_name": "Python 3",
   "language": "python",
   "name": "python3"
  },
  "language_info": {
   "codemirror_mode": {
    "name": "ipython",
    "version": 3
   },
   "file_extension": ".py",
   "mimetype": "text/x-python",
   "name": "python",
   "nbconvert_exporter": "python",
   "pygments_lexer": "ipython3",
   "version": "3.7.1"
  }
 },
 "nbformat": 4,
 "nbformat_minor": 2
}
