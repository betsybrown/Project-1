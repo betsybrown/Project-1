{
 "cells": [
  {
   "cell_type": "code",
   "execution_count": 23,
   "metadata": {},
   "outputs": [],
   "source": [
    "import pandas as pd\n",
    "import numpy as np\n",
    "import matplotlib.pyplot as plt\n",
    "\n",
    "\n",
    "wine_data_to_load = \"/Users/kurtshiple/Desktop/Project1/projectcsvs/wine-reviews/winemag-data-130k-v2.csv\"\n",
    "\n",
    "wine_data = pd.read_csv(wine_data_to_load)"
   ]
  },
  {
   "cell_type": "code",
   "execution_count": 24,
   "metadata": {},
   "outputs": [],
   "source": [
    "#Words we want to ignore\n",
    "stopwords = ['a', 'about', 'above', 'across', 'after', 'afterwards']\n",
    "stopwords += ['again', 'against', 'all', 'almost', 'alone', 'along']\n",
    "stopwords += ['already', 'also', 'although', 'always', 'am', 'among']\n",
    "stopwords += ['amongst', 'amoungst', 'amount', 'an', 'and', 'another']\n",
    "stopwords += ['any', 'anyhow', 'anyone', 'anything', 'anyway', 'anywhere']\n",
    "stopwords += ['are', 'around', 'as', 'at', 'back', 'be', 'became']\n",
    "stopwords += ['because', 'become', 'becomes', 'becoming', 'been']\n",
    "stopwords += ['before', 'beforehand', 'behind', 'being', 'below']\n",
    "stopwords += ['beside', 'besides', 'between', 'beyond', 'bill', 'both']\n",
    "stopwords += ['bottom', 'but', 'by', 'call', 'can', 'cannot', 'cant']\n",
    "stopwords += ['co', 'computer', 'con', 'could', 'couldnt', 'cry', 'de']\n",
    "stopwords += ['describe', 'detail', 'did', 'do', 'done', 'down', 'due']\n",
    "stopwords += ['during', 'each', 'eg', 'eight', 'either', 'eleven', 'else']\n",
    "stopwords += ['elsewhere', 'empty', 'enough', 'etc', 'even', 'ever']\n",
    "stopwords += ['every', 'everyone', 'everything', 'everywhere', 'except']\n",
    "stopwords += ['few', 'fifteen', 'fifty', 'fill', 'find', 'fire', 'first']\n",
    "stopwords += ['five', 'for', 'former', 'formerly', 'forty', 'found']\n",
    "stopwords += ['four', 'from', 'front', 'full', 'further', 'get', 'give']\n",
    "stopwords += ['go', 'had', 'has', 'hasnt', 'have', 'he', 'hence', 'her']\n",
    "stopwords += ['here', 'hereafter', 'hereby', 'herein', 'hereupon', 'hers']\n",
    "stopwords += ['herself', 'him', 'himself', 'his', 'how', 'however']\n",
    "stopwords += ['hundred', 'i', 'ie', 'if', 'in', 'inc', 'indeed']\n",
    "stopwords += ['interest', 'into', 'is', 'it', 'its', 'itself', 'keep']\n",
    "stopwords += ['last', 'latter', 'latterly', 'least', 'less', 'ltd', 'made']\n",
    "stopwords += ['many', 'may', 'me', 'meanwhile', 'might', 'mill', 'mine']\n",
    "stopwords += ['more', 'moreover', 'most', 'mostly', 'move', 'much']\n",
    "stopwords += ['must', 'my', 'myself', 'name', 'namely', 'neither', 'never']\n",
    "stopwords += ['nevertheless', 'next', 'nine', 'no', 'nobody', 'none']\n",
    "stopwords += ['noone', 'nor', 'not', 'nothing', 'now', 'nowhere', 'of']\n",
    "stopwords += ['off', 'often', 'on','once', 'one', 'only', 'onto', 'or']\n",
    "stopwords += ['other', 'others', 'otherwise', 'our', 'ours', 'ourselves']\n",
    "stopwords += ['out', 'over', 'own', 'part', 'per', 'perhaps', 'please']\n",
    "stopwords += ['put', 'rather', 're', 's', 'same', 'see', 'seem', 'seemed']\n",
    "stopwords += ['seeming', 'seems', 'serious', 'several', 'she', 'should']\n",
    "stopwords += ['show', 'side', 'since', 'sincere', 'six', 'sixty', 'so']\n",
    "stopwords += ['some', 'somehow', 'someone', 'something', 'sometime']\n",
    "stopwords += ['sometimes', 'somewhere', 'still', 'such', 'system', 'take']\n",
    "stopwords += ['ten', 'than', 'that', 'the', 'their', 'them', 'themselves']\n",
    "stopwords += ['then', 'thence', 'there', 'thereafter', 'thereby']\n",
    "stopwords += ['therefore', 'therein', 'thereupon', 'these', 'they']\n",
    "stopwords += ['thick', 'thin', 'third', 'this', 'those', 'though', 'three']\n",
    "stopwords += ['three', 'through', 'throughout', 'thru', 'thus', 'to']\n",
    "stopwords += ['together', 'too', 'top', 'toward', 'towards', 'twelve']\n",
    "stopwords += ['twenty', 'two', 'un', 'under', 'until', 'up', 'upon']\n",
    "stopwords += ['us', 'very', 'via', 'was', 'we', 'well', 'were', 'what']\n",
    "stopwords += ['whatever', 'when', 'whence', 'whenever', 'where']\n",
    "stopwords += ['whereafter', 'whereas', 'whereby', 'wherein', 'whereupon']\n",
    "stopwords += ['wherever', 'whether', 'which', 'while', 'whither', 'who']\n",
    "stopwords += ['whoever', 'whole', 'whom', 'whose', 'why', 'will', 'with']\n",
    "stopwords += ['within', 'without', 'would', 'yet', 'you', 'your']\n",
    "stopwords += ['yours', 'yourself', 'yourselves']\n",
    "stopwords += ['tannins.','Sauvignon','Riesling','Riesling.','Syrah','flavors.']\n",
    "stopwords += ['cherry,','palate','Merlot','finish.','rosé','Cabernet','Chardonnay']\n",
    "stopwords += ['now.','The', 'This', \"it's\",\"It's\",\"A\",\"It'\",\"It\",\"like\",\"wine\",\"Pinot\",\"Drink\",\"flavors\"]"
   ]
  },
  {
   "cell_type": "code",
   "execution_count": 25,
   "metadata": {},
   "outputs": [],
   "source": [
    "\n",
    "del wine_data[\"designation\"]\n",
    "del wine_data[\"province\"]\n",
    "del wine_data[\"region_1\"]\n",
    "del wine_data[\"region_2\"]\n",
    "del wine_data[\"taster_name\"]\n",
    "del wine_data[\"taster_twitter_handle\"]\n",
    "del wine_data[\"Unnamed: 0\"]\n",
    "\n",
    "wine_data = wine_data.dropna(how='any')"
   ]
  },
  {
   "cell_type": "code",
   "execution_count": 26,
   "metadata": {},
   "outputs": [
    {
     "data": {
      "text/html": [
       "<div>\n",
       "<style scoped>\n",
       "    .dataframe tbody tr th:only-of-type {\n",
       "        vertical-align: middle;\n",
       "    }\n",
       "\n",
       "    .dataframe tbody tr th {\n",
       "        vertical-align: top;\n",
       "    }\n",
       "\n",
       "    .dataframe thead th {\n",
       "        text-align: right;\n",
       "    }\n",
       "</style>\n",
       "<table border=\"1\" class=\"dataframe\">\n",
       "  <thead>\n",
       "    <tr style=\"text-align: right;\">\n",
       "      <th></th>\n",
       "      <th>country</th>\n",
       "      <th>description</th>\n",
       "      <th>points</th>\n",
       "      <th>price</th>\n",
       "      <th>title</th>\n",
       "      <th>variety</th>\n",
       "      <th>winery</th>\n",
       "    </tr>\n",
       "  </thead>\n",
       "  <tbody>\n",
       "    <tr>\n",
       "      <th>1</th>\n",
       "      <td>Portugal</td>\n",
       "      <td>This is ripe and fruity, a wine that is smooth...</td>\n",
       "      <td>87</td>\n",
       "      <td>15.0</td>\n",
       "      <td>Quinta dos Avidagos 2011 Avidagos Red (Douro)</td>\n",
       "      <td>Portuguese Red</td>\n",
       "      <td>Quinta dos Avidagos</td>\n",
       "    </tr>\n",
       "    <tr>\n",
       "      <th>2</th>\n",
       "      <td>US</td>\n",
       "      <td>Tart and snappy, the flavors of lime flesh and...</td>\n",
       "      <td>87</td>\n",
       "      <td>14.0</td>\n",
       "      <td>Rainstorm 2013 Pinot Gris (Willamette Valley)</td>\n",
       "      <td>Pinot Gris</td>\n",
       "      <td>Rainstorm</td>\n",
       "    </tr>\n",
       "    <tr>\n",
       "      <th>3</th>\n",
       "      <td>US</td>\n",
       "      <td>Pineapple rind, lemon pith and orange blossom ...</td>\n",
       "      <td>87</td>\n",
       "      <td>13.0</td>\n",
       "      <td>St. Julian 2013 Reserve Late Harvest Riesling ...</td>\n",
       "      <td>Riesling</td>\n",
       "      <td>St. Julian</td>\n",
       "    </tr>\n",
       "    <tr>\n",
       "      <th>4</th>\n",
       "      <td>US</td>\n",
       "      <td>Much like the regular bottling from 2012, this...</td>\n",
       "      <td>87</td>\n",
       "      <td>65.0</td>\n",
       "      <td>Sweet Cheeks 2012 Vintner's Reserve Wild Child...</td>\n",
       "      <td>Pinot Noir</td>\n",
       "      <td>Sweet Cheeks</td>\n",
       "    </tr>\n",
       "    <tr>\n",
       "      <th>5</th>\n",
       "      <td>Spain</td>\n",
       "      <td>Blackberry and raspberry aromas show a typical...</td>\n",
       "      <td>87</td>\n",
       "      <td>15.0</td>\n",
       "      <td>Tandem 2011 Ars In Vitro Tempranillo-Merlot (N...</td>\n",
       "      <td>Tempranillo-Merlot</td>\n",
       "      <td>Tandem</td>\n",
       "    </tr>\n",
       "  </tbody>\n",
       "</table>\n",
       "</div>"
      ],
      "text/plain": [
       "    country                                        description  points  price  \\\n",
       "1  Portugal  This is ripe and fruity, a wine that is smooth...      87   15.0   \n",
       "2        US  Tart and snappy, the flavors of lime flesh and...      87   14.0   \n",
       "3        US  Pineapple rind, lemon pith and orange blossom ...      87   13.0   \n",
       "4        US  Much like the regular bottling from 2012, this...      87   65.0   \n",
       "5     Spain  Blackberry and raspberry aromas show a typical...      87   15.0   \n",
       "\n",
       "                                               title             variety  \\\n",
       "1      Quinta dos Avidagos 2011 Avidagos Red (Douro)      Portuguese Red   \n",
       "2      Rainstorm 2013 Pinot Gris (Willamette Valley)          Pinot Gris   \n",
       "3  St. Julian 2013 Reserve Late Harvest Riesling ...            Riesling   \n",
       "4  Sweet Cheeks 2012 Vintner's Reserve Wild Child...          Pinot Noir   \n",
       "5  Tandem 2011 Ars In Vitro Tempranillo-Merlot (N...  Tempranillo-Merlot   \n",
       "\n",
       "                winery  \n",
       "1  Quinta dos Avidagos  \n",
       "2            Rainstorm  \n",
       "3           St. Julian  \n",
       "4         Sweet Cheeks  \n",
       "5               Tandem  "
      ]
     },
     "execution_count": 26,
     "metadata": {},
     "output_type": "execute_result"
    }
   ],
   "source": [
    "wine_data.head()"
   ]
  },
  {
   "cell_type": "code",
   "execution_count": 27,
   "metadata": {},
   "outputs": [
    {
     "data": {
      "text/html": [
       "<div>\n",
       "<style scoped>\n",
       "    .dataframe tbody tr th:only-of-type {\n",
       "        vertical-align: middle;\n",
       "    }\n",
       "\n",
       "    .dataframe tbody tr th {\n",
       "        vertical-align: top;\n",
       "    }\n",
       "\n",
       "    .dataframe thead th {\n",
       "        text-align: right;\n",
       "    }\n",
       "</style>\n",
       "<table border=\"1\" class=\"dataframe\">\n",
       "  <thead>\n",
       "    <tr style=\"text-align: right;\">\n",
       "      <th></th>\n",
       "      <th>title</th>\n",
       "    </tr>\n",
       "    <tr>\n",
       "      <th>variety</th>\n",
       "      <th></th>\n",
       "    </tr>\n",
       "  </thead>\n",
       "  <tbody>\n",
       "    <tr>\n",
       "      <th>Pinot Noir</th>\n",
       "      <td>12785</td>\n",
       "    </tr>\n",
       "    <tr>\n",
       "      <th>Chardonnay</th>\n",
       "      <td>11077</td>\n",
       "    </tr>\n",
       "    <tr>\n",
       "      <th>Cabernet Sauvignon</th>\n",
       "      <td>9384</td>\n",
       "    </tr>\n",
       "    <tr>\n",
       "      <th>Red Blend</th>\n",
       "      <td>8466</td>\n",
       "    </tr>\n",
       "    <tr>\n",
       "      <th>Bordeaux-style Red Blend</th>\n",
       "      <td>5340</td>\n",
       "    </tr>\n",
       "    <tr>\n",
       "      <th>Riesling</th>\n",
       "      <td>4971</td>\n",
       "    </tr>\n",
       "    <tr>\n",
       "      <th>Sauvignon Blanc</th>\n",
       "      <td>4780</td>\n",
       "    </tr>\n",
       "    <tr>\n",
       "      <th>Syrah</th>\n",
       "      <td>4086</td>\n",
       "    </tr>\n",
       "    <tr>\n",
       "      <th>Rosé</th>\n",
       "      <td>3261</td>\n",
       "    </tr>\n",
       "    <tr>\n",
       "      <th>Merlot</th>\n",
       "      <td>3061</td>\n",
       "    </tr>\n",
       "  </tbody>\n",
       "</table>\n",
       "</div>"
      ],
      "text/plain": [
       "                          title\n",
       "variety                        \n",
       "Pinot Noir                12785\n",
       "Chardonnay                11077\n",
       "Cabernet Sauvignon         9384\n",
       "Red Blend                  8466\n",
       "Bordeaux-style Red Blend   5340\n",
       "Riesling                   4971\n",
       "Sauvignon Blanc            4780\n",
       "Syrah                      4086\n",
       "Rosé                       3261\n",
       "Merlot                     3061"
      ]
     },
     "execution_count": 27,
     "metadata": {},
     "output_type": "execute_result"
    }
   ],
   "source": [
    "#Showing most common wines so we can select which to visualize\n",
    "df = pd.DataFrame(wine_data.groupby(\"variety\").title.count())\n",
    "mostpopularwines = df.sort_values(by=['title'],ascending=False)\n",
    "mostpopularwines.head(10)\n",
    "\n"
   ]
  },
  {
   "cell_type": "code",
   "execution_count": 28,
   "metadata": {},
   "outputs": [
    {
     "data": {
      "image/png": "[encoded data removed]",
      "text/plain": [
       "<Figure size 432x288 with 1 Axes>"
      ]
     },
     "metadata": {
      "needs_background": "light"
     },
     "output_type": "display_data"
    }
   ],
   "source": [
    "#This code takes the specified variety of wine, iterates through each description, splits the text,\n",
    "#removes vocabulary that can also be found in \"Stop Words\" and \n",
    "variety = \"Pinot Noir\"\n",
    "wvdf = wine_data.loc[wine_data['variety'] == f\"{variety}\"]\n",
    "j = wvdf[\"description\"]\n",
    "wvdf = []\n",
    "for i in j:\n",
    "    split_it = i.split()\n",
    "    for k in split_it:\n",
    "        wvdf.append(k)\n",
    "keywvdf = []\n",
    "for i in wvdf:\n",
    "    if i not in stopwords:\n",
    "        keywvdf.append(i)\n",
    "from collections import Counter\n",
    "Counter = Counter(keywvdf) \n",
    "  \n",
    "# most_common() produces k frequently encountered \n",
    "# input values and their respective counts. \n",
    "most_occur = Counter.most_common(10) \n",
    "most_occur_dict = dict(most_occur)\n",
    "\n",
    "descriptors = most_occur_dict.keys()\n",
    "descriptorcount = most_occur_dict.values()\n",
    "descriptorcount_list=list(descriptorcount)\n",
    "\n",
    "\n",
    "indexes = np.arange(len(descriptors))\n",
    "plt.barh(indexes, descriptorcount_list, align='center', alpha=0.5)\n",
    "plt.yticks(indexes, descriptors)\n",
    "plt.title(f\"Word Frequency: {variety}\")\n",
    "plt.savefig(f\"/Users/kurtshiple/Desktop/Project1/savedfigures/WordFreq{variety}.png\", format=\"png\")\n",
    "plt.show()"
   ]
  },
  {
   "cell_type": "code",
   "execution_count": 29,
   "metadata": {},
   "outputs": [
    {
     "data": {
      "image/png": "[encoded data removed]",
      "text/plain": [
       "<Figure size 432x288 with 1 Axes>"
      ]
     },
     "metadata": {
      "needs_background": "light"
     },
     "output_type": "display_data"
    }
   ],
   "source": [
    "variety = \"Chardonnay\"\n",
    "wvdf = wine_data.loc[wine_data['variety'] == f\"{variety}\"]\n",
    "j = wvdf[\"description\"]\n",
    "wvdf = []\n",
    "for i in j:\n",
    "    split_it = i.split()\n",
    "    for k in split_it:\n",
    "        wvdf.append(k)\n",
    "keywvdf = []\n",
    "for i in wvdf:\n",
    "    if i not in stopwords:\n",
    "        keywvdf.append(i)\n",
    "from collections import Counter\n",
    "Counter = Counter(keywvdf) \n",
    "  \n",
    "# most_common() produces k frequently encountered \n",
    "# input values and their respective counts. \n",
    "most_occur = Counter.most_common(10) \n",
    "most_occur_dict = dict(most_occur)\n",
    "\n",
    "descriptors = most_occur_dict.keys()\n",
    "descriptorcount = most_occur_dict.values()\n",
    "descriptorcount_list=list(descriptorcount)\n",
    "\n",
    "\n",
    "indexes = np.arange(len(descriptors))\n",
    "plt.barh(indexes, descriptorcount_list, align='center', alpha=0.5)\n",
    "plt.yticks(indexes, descriptors)\n",
    "plt.title(f\"Word Frequency: {variety}\")\n",
    "plt.savefig(f\"/Users/kurtshiple/Desktop/Project1/savedfigures/WordFreq{variety}.png\", format=\"png\")\n",
    "\n",
    "plt.show()"
   ]
  },
  {
   "cell_type": "code",
   "execution_count": 30,
   "metadata": {},
   "outputs": [
    {
     "data": {
      "image/png": "[encoded data removed]",
      "text/plain": [
       "<Figure size 432x288 with 1 Axes>"
      ]
     },
     "metadata": {
      "needs_background": "light"
     },
     "output_type": "display_data"
    }
   ],
   "source": [
    "variety = \"Cabernet Sauvignon\"\n",
    "wvdf = wine_data.loc[wine_data['variety'] == f\"{variety}\"]\n",
    "j = wvdf[\"description\"]\n",
    "wvdf = []\n",
    "for i in j:\n",
    "    split_it = i.split()\n",
    "    for k in split_it:\n",
    "        wvdf.append(k)\n",
    "keywvdf = []\n",
    "for i in wvdf:\n",
    "    if i not in stopwords:\n",
    "        keywvdf.append(i)\n",
    "from collections import Counter\n",
    "Counter = Counter(keywvdf) \n",
    "  \n",
    "# most_common() produces k frequently encountered \n",
    "# input values and their respective counts. \n",
    "most_occur = Counter.most_common(10) \n",
    "most_occur_dict = dict(most_occur)\n",
    "\n",
    "descriptors = most_occur_dict.keys()\n",
    "descriptorcount = most_occur_dict.values()\n",
    "descriptorcount_list=list(descriptorcount)\n",
    "\n",
    "\n",
    "indexes = np.arange(len(descriptors))\n",
    "plt.barh(indexes, descriptorcount_list, align='center', alpha=0.5)\n",
    "plt.yticks(indexes, descriptors)\n",
    "plt.title(f\"Word Frequency: {variety}\")\n",
    "plt.savefig(f\"/Users/kurtshiple/Desktop/Project1/savedfigures/WordFreq{variety}.png\", format=\"png\")\n",
    "\n",
    "plt.show()"
   ]
  },
  {
   "cell_type": "code",
   "execution_count": 31,
   "metadata": {},
   "outputs": [
    {
     "data": {
      "image/png": "[encoded data removed]",
      "text/plain": [
       "<Figure size 432x288 with 1 Axes>"
      ]
     },
     "metadata": {
      "needs_background": "light"
     },
     "output_type": "display_data"
    }
   ],
   "source": [
    "variety = \"Red Blend\"\n",
    "wvdf = wine_data.loc[wine_data['variety'] == f\"{variety}\"]\n",
    "j = wvdf[\"description\"]\n",
    "wvdf = []\n",
    "for i in j:\n",
    "    split_it = i.split()\n",
    "    for k in split_it:\n",
    "        wvdf.append(k)\n",
    "keywvdf = []\n",
    "for i in wvdf:\n",
    "    if i not in stopwords:\n",
    "        keywvdf.append(i)\n",
    "from collections import Counter\n",
    "Counter = Counter(keywvdf) \n",
    "  \n",
    "# most_common() produces k frequently encountered \n",
    "# input values and their respective counts. \n",
    "most_occur = Counter.most_common(10) \n",
    "most_occur_dict = dict(most_occur)\n",
    "\n",
    "descriptors = most_occur_dict.keys()\n",
    "descriptorcount = most_occur_dict.values()\n",
    "descriptorcount_list=list(descriptorcount)\n",
    "\n",
    "\n",
    "indexes = np.arange(len(descriptors))\n",
    "plt.barh(indexes, descriptorcount_list, align='center', alpha=0.5)\n",
    "plt.yticks(indexes, descriptors)\n",
    "plt.title(f\"Word Frequency: {variety}\")\n",
    "plt.savefig(f\"/Users/kurtshiple/Desktop/Project1/savedfigures/WordFreq{variety}.png\", format=\"png\")\n",
    "\n",
    "plt.show()"
   ]
  },
  {
   "cell_type": "code",
   "execution_count": 32,
   "metadata": {},
   "outputs": [
    {
     "data": {
      "image/png": "[encoded data removed]",
      "text/plain": [
       "<Figure size 432x288 with 1 Axes>"
      ]
     },
     "metadata": {
      "needs_background": "light"
     },
     "output_type": "display_data"
    }
   ],
   "source": [
    "variety = \"Bordeaux-style Red Blend\"\n",
    "wvdf = wine_data.loc[wine_data['variety'] == f\"{variety}\"]\n",
    "j = wvdf[\"description\"]\n",
    "wvdf = []\n",
    "for i in j:\n",
    "    split_it = i.split()\n",
    "    for k in split_it:\n",
    "        wvdf.append(k)\n",
    "keywvdf = []\n",
    "for i in wvdf:\n",
    "    if i not in stopwords:\n",
    "        keywvdf.append(i)\n",
    "from collections import Counter\n",
    "Counter = Counter(keywvdf) \n",
    "  \n",
    "# most_common() produces k frequently encountered \n",
    "# input values and their respective counts. \n",
    "most_occur = Counter.most_common(10) \n",
    "most_occur_dict = dict(most_occur)\n",
    "\n",
    "descriptors = most_occur_dict.keys()\n",
    "descriptorcount = most_occur_dict.values()\n",
    "descriptorcount_list=list(descriptorcount)\n",
    "\n",
    "\n",
    "indexes = np.arange(len(descriptors))\n",
    "plt.barh(indexes, descriptorcount_list, align='center', alpha=0.5)\n",
    "plt.yticks(indexes, descriptors)\n",
    "plt.title(f\"Word Frequency: {variety}\")\n",
    "plt.savefig(f\"/Users/kurtshiple/Desktop/Project1/savedfigures/WordFreq{variety}.png\", format=\"png\")\n",
    "\n",
    "plt.show()"
   ]
  },
  {
   "cell_type": "code",
   "execution_count": 33,
   "metadata": {},
   "outputs": [
    {
     "data": {
      "image/png": "[encoded data removed]",
      "text/plain": [
       "<Figure size 432x288 with 1 Axes>"
      ]
     },
     "metadata": {
      "needs_background": "light"
     },
     "output_type": "display_data"
    }
   ],
   "source": [
    "variety = \"Riesling\"\n",
    "wvdf = wine_data.loc[wine_data['variety'] == f\"{variety}\"]\n",
    "j = wvdf[\"description\"]\n",
    "wvdf = []\n",
    "for i in j:\n",
    "    split_it = i.split()\n",
    "    for k in split_it:\n",
    "        wvdf.append(k)\n",
    "keywvdf = []\n",
    "for i in wvdf:\n",
    "    if i not in stopwords:\n",
    "        keywvdf.append(i)\n",
    "from collections import Counter\n",
    "Counter = Counter(keywvdf) \n",
    "  \n",
    "# most_common() produces k frequently encountered \n",
    "# input values and their respective counts. \n",
    "most_occur = Counter.most_common(10) \n",
    "most_occur_dict = dict(most_occur)\n",
    "\n",
    "descriptors = most_occur_dict.keys()\n",
    "descriptorcount = most_occur_dict.values()\n",
    "descriptorcount_list=list(descriptorcount)\n",
    "\n",
    "\n",
    "indexes = np.arange(len(descriptors))\n",
    "plt.barh(indexes, descriptorcount_list, align='center', alpha=0.5)\n",
    "plt.yticks(indexes, descriptors)\n",
    "plt.title(f\"Word Frequency: {variety}\")\n",
    "plt.savefig(f\"/Users/kurtshiple/Desktop/Project1/savedfigures/WordFreq{variety}.png\", format=\"png\")\n",
    "\n",
    "plt.show()"
   ]
  },
  {
   "cell_type": "code",
   "execution_count": 34,
   "metadata": {},
   "outputs": [
    {
     "data": {
      "image/png": "[encoded data removed]",
      "text/plain": [
       "<Figure size 432x288 with 1 Axes>"
      ]
     },
     "metadata": {
      "needs_background": "light"
     },
     "output_type": "display_data"
    }
   ],
   "source": [
    "variety = \"Sauvignon Blanc\"\n",
    "wvdf = wine_data.loc[wine_data['variety'] == f\"{variety}\"]\n",
    "j = wvdf[\"description\"]\n",
    "wvdf = []\n",
    "for i in j:\n",
    "    split_it = i.split()\n",
    "    for k in split_it:\n",
    "        wvdf.append(k)\n",
    "keywvdf = []\n",
    "for i in wvdf:\n",
    "    if i not in stopwords:\n",
    "        keywvdf.append(i)\n",
    "from collections import Counter\n",
    "Counter = Counter(keywvdf) \n",
    "  \n",
    "# most_common() produces k frequently encountered \n",
    "# input values and their respective counts. \n",
    "most_occur = Counter.most_common(10) \n",
    "most_occur_dict = dict(most_occur)\n",
    "\n",
    "descriptors = most_occur_dict.keys()\n",
    "descriptorcount = most_occur_dict.values()\n",
    "descriptorcount_list=list(descriptorcount)\n",
    "\n",
    "\n",
    "indexes = np.arange(len(descriptors))\n",
    "plt.barh(indexes, descriptorcount_list, align='center', alpha=0.5)\n",
    "plt.yticks(indexes, descriptors)\n",
    "plt.title(f\"Word Frequency: {variety}\")\n",
    "plt.savefig(f\"/Users/kurtshiple/Desktop/Project1/savedfigures/WordFreq{variety}.png\", format=\"png\")\n",
    "\n",
    "plt.show()"
   ]
  },
  {
   "cell_type": "code",
   "execution_count": 35,
   "metadata": {},
   "outputs": [
    {
     "data": {
      "image/png": "[encoded data removed]",
      "text/plain": [
       "<Figure size 432x288 with 1 Axes>"
      ]
     },
     "metadata": {
      "needs_background": "light"
     },
     "output_type": "display_data"
    }
   ],
   "source": [
    "variety = \"Syrah\"\n",
    "wvdf = wine_data.loc[wine_data['variety'] == f\"{variety}\"]\n",
    "j = wvdf[\"description\"]\n",
    "wvdf = []\n",
    "for i in j:\n",
    "    split_it = i.split()\n",
    "    for k in split_it:\n",
    "        wvdf.append(k)\n",
    "keywvdf = []\n",
    "for i in wvdf:\n",
    "    if i not in stopwords:\n",
    "        keywvdf.append(i)\n",
    "from collections import Counter\n",
    "Counter = Counter(keywvdf) \n",
    "  \n",
    "# most_common() produces k frequently encountered \n",
    "# input values and their respective counts. \n",
    "most_occur = Counter.most_common(10) \n",
    "most_occur_dict = dict(most_occur)\n",
    "\n",
    "descriptors = most_occur_dict.keys()\n",
    "descriptorcount = most_occur_dict.values()\n",
    "descriptorcount_list=list(descriptorcount)\n",
    "\n",
    "\n",
    "indexes = np.arange(len(descriptors))\n",
    "plt.barh(indexes, descriptorcount_list, align='center', alpha=0.5)\n",
    "plt.yticks(indexes, descriptors)\n",
    "plt.title(f\"Word Frequency: {variety}\")\n",
    "plt.savefig(f\"/Users/kurtshiple/Desktop/Project1/savedfigures/WordFreq{variety}.png\", format=\"png\")\n",
    "\n",
    "plt.show()"
   ]
  },
  {
   "cell_type": "code",
   "execution_count": 36,
   "metadata": {},
   "outputs": [
    {
     "data": {
      "image/png": "[encoded data removed]",
      "text/plain": [
       "<Figure size 432x288 with 1 Axes>"
      ]
     },
     "metadata": {
      "needs_background": "light"
     },
     "output_type": "display_data"
    }
   ],
   "source": [
    "variety = \"Rosé\"\n",
    "wvdf = wine_data.loc[wine_data['variety'] == f\"{variety}\"]\n",
    "j = wvdf[\"description\"]\n",
    "wvdf = []\n",
    "for i in j:\n",
    "    split_it = i.split()\n",
    "    for k in split_it:\n",
    "        wvdf.append(k)\n",
    "keywvdf = []\n",
    "for i in wvdf:\n",
    "    if i not in stopwords:\n",
    "        keywvdf.append(i)\n",
    "from collections import Counter\n",
    "Counter = Counter(keywvdf) \n",
    "  \n",
    "# most_common() produces k frequently encountered \n",
    "# input values and their respective counts. \n",
    "most_occur = Counter.most_common(10) \n",
    "most_occur_dict = dict(most_occur)\n",
    "\n",
    "descriptors = most_occur_dict.keys()\n",
    "descriptorcount = most_occur_dict.values()\n",
    "descriptorcount_list=list(descriptorcount)\n",
    "\n",
    "\n",
    "indexes = np.arange(len(descriptors))\n",
    "plt.barh(indexes, descriptorcount_list, align='center', alpha=0.5)\n",
    "plt.yticks(indexes, descriptors)\n",
    "plt.title(f\"Word Frequency: {variety}\")\n",
    "plt.savefig(f\"/Users/kurtshiple/Desktop/Project1/savedfigures/WordFreq{variety}.png\", format=\"png\")\n",
    "\n",
    "plt.show()"
   ]
  },
  {
   "cell_type": "code",
   "execution_count": 37,
   "metadata": {},
   "outputs": [
    {
     "data": {
      "image/png": "[encoded data removed]",
      "text/plain": [
       "<Figure size 432x288 with 1 Axes>"
      ]
     },
     "metadata": {
      "needs_background": "light"
     },
     "output_type": "display_data"
    }
   ],
   "source": [
    "variety = \"Merlot\"\n",
    "wvdf = wine_data.loc[wine_data['variety'] == f\"{variety}\"]\n",
    "j = wvdf[\"description\"]\n",
    "wvdf = []\n",
    "for i in j:\n",
    "    split_it = i.split()\n",
    "    for k in split_it:\n",
    "        wvdf.append(k)\n",
    "keywvdf = []\n",
    "for i in wvdf:\n",
    "    if i not in stopwords:\n",
    "        keywvdf.append(i)\n",
    "from collections import Counter\n",
    "Counter = Counter(keywvdf) \n",
    "  \n",
    "# most_common() produces k frequently encountered \n",
    "# input values and their respective counts. \n",
    "most_occur = Counter.most_common(10) \n",
    "most_occur_dict = dict(most_occur)\n",
    "\n",
    "descriptors = most_occur_dict.keys()\n",
    "descriptorcount = most_occur_dict.values()\n",
    "descriptorcount_list=list(descriptorcount)\n",
    "\n",
    "\n",
    "indexes = np.arange(len(descriptors))\n",
    "plt.barh(indexes, descriptorcount_list, align='center', alpha=0.5)\n",
    "plt.yticks(indexes, descriptors)\n",
    "plt.title(f\"Word Frequency: {variety}\")\n",
    "plt.savefig(f\"/Users/kurtshiple/Desktop/Project1/savedfigures/WordFreq{variety}.png\", format=\"png\")\n",
    "\n",
    "plt.show()"
   ]
  },
  {
   "cell_type": "code",
   "execution_count": null,
   "metadata": {},
   "outputs": [],
   "source": []
  },
  {
   "cell_type": "code",
   "execution_count": null,
   "metadata": {},
   "outputs": [],
   "source": []
  }
 ],
 "metadata": {
  "kernelspec": {
   "display_name": "Python 3",
   "language": "python",
   "name": "python3"
  },
  "language_info": {
   "codemirror_mode": {
    "name": "ipython",
    "version": 3
   },
   "file_extension": ".py",
   "mimetype": "text/x-python",
   "name": "python",
   "nbconvert_exporter": "python",
   "pygments_lexer": "ipython3",
   "version": "3.7.1"
  }
 },
 "nbformat": 4,
 "nbformat_minor": 2
}
