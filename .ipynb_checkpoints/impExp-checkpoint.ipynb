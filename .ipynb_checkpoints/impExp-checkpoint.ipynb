{
 "cells": [
  {
   "cell_type": "code",
   "execution_count": 66,
   "metadata": {},
   "outputs": [],
   "source": [
    "import pandas as pd\n",
    "import os \n",
    "import numpy as np\n",
    "import matplotlib.pyplot as plt"
   ]
  },
  {
   "cell_type": "code",
   "execution_count": 67,
   "metadata": {},
   "outputs": [],
   "source": [
    "wine_imports_df = pd.read_excel('Global_wine_data.xlsx', sheet_name='T16 % world wine import vol', header=1)\n",
    "wine_exports_df = pd.read_excel('Global_wine_data.xlsx', sheet_name='T11 % world wine export vol', header=1)"
   ]
  },
  {
   "cell_type": "code",
   "execution_count": 68,
   "metadata": {
    "scrolled": false
   },
   "outputs": [
    {
     "data": {
      "text/html": [
       "<div>\n",
       "<style scoped>\n",
       "    .dataframe tbody tr th:only-of-type {\n",
       "        vertical-align: middle;\n",
       "    }\n",
       "\n",
       "    .dataframe tbody tr th {\n",
       "        vertical-align: top;\n",
       "    }\n",
       "\n",
       "    .dataframe thead th {\n",
       "        text-align: right;\n",
       "    }\n",
       "</style>\n",
       "<table border=\"1\" class=\"dataframe\">\n",
       "  <thead>\n",
       "    <tr style=\"text-align: right;\">\n",
       "      <th></th>\n",
       "      <th>France</th>\n",
       "      <th>Italy</th>\n",
       "      <th>Portugal</th>\n",
       "      <th>Spain</th>\n",
       "      <th>Austria</th>\n",
       "      <th>Bel-Lux</th>\n",
       "      <th>Denmark</th>\n",
       "      <th>Finland</th>\n",
       "      <th>Germany</th>\n",
       "      <th>Greece</th>\n",
       "      <th>...</th>\n",
       "      <th>Malaysia</th>\n",
       "      <th>Philippines</th>\n",
       "      <th>Singapore</th>\n",
       "      <th>Taiwan</th>\n",
       "      <th>Thailand</th>\n",
       "      <th>Other Asia Pacific</th>\n",
       "      <th>Other</th>\n",
       "      <th>World</th>\n",
       "      <th>Unnamed: 54</th>\n",
       "      <th>Coeff. of variation</th>\n",
       "    </tr>\n",
       "  </thead>\n",
       "  <tbody>\n",
       "    <tr>\n",
       "      <th>1835</th>\n",
       "      <td>NaN</td>\n",
       "      <td>NaN</td>\n",
       "      <td>NaN</td>\n",
       "      <td>NaN</td>\n",
       "      <td>NaN</td>\n",
       "      <td>NaN</td>\n",
       "      <td>NaN</td>\n",
       "      <td>NaN</td>\n",
       "      <td>NaN</td>\n",
       "      <td>NaN</td>\n",
       "      <td>...</td>\n",
       "      <td>NaN</td>\n",
       "      <td>NaN</td>\n",
       "      <td>NaN</td>\n",
       "      <td>NaN</td>\n",
       "      <td>NaN</td>\n",
       "      <td>NaN</td>\n",
       "      <td>NaN</td>\n",
       "      <td>NaN</td>\n",
       "      <td>NaN</td>\n",
       "      <td>NaN</td>\n",
       "    </tr>\n",
       "    <tr>\n",
       "      <th>1836</th>\n",
       "      <td>NaN</td>\n",
       "      <td>NaN</td>\n",
       "      <td>NaN</td>\n",
       "      <td>NaN</td>\n",
       "      <td>NaN</td>\n",
       "      <td>NaN</td>\n",
       "      <td>NaN</td>\n",
       "      <td>NaN</td>\n",
       "      <td>NaN</td>\n",
       "      <td>NaN</td>\n",
       "      <td>...</td>\n",
       "      <td>NaN</td>\n",
       "      <td>NaN</td>\n",
       "      <td>NaN</td>\n",
       "      <td>NaN</td>\n",
       "      <td>NaN</td>\n",
       "      <td>NaN</td>\n",
       "      <td>NaN</td>\n",
       "      <td>NaN</td>\n",
       "      <td>NaN</td>\n",
       "      <td>NaN</td>\n",
       "    </tr>\n",
       "    <tr>\n",
       "      <th>1837</th>\n",
       "      <td>NaN</td>\n",
       "      <td>NaN</td>\n",
       "      <td>NaN</td>\n",
       "      <td>NaN</td>\n",
       "      <td>NaN</td>\n",
       "      <td>NaN</td>\n",
       "      <td>NaN</td>\n",
       "      <td>NaN</td>\n",
       "      <td>NaN</td>\n",
       "      <td>NaN</td>\n",
       "      <td>...</td>\n",
       "      <td>NaN</td>\n",
       "      <td>NaN</td>\n",
       "      <td>NaN</td>\n",
       "      <td>NaN</td>\n",
       "      <td>NaN</td>\n",
       "      <td>NaN</td>\n",
       "      <td>NaN</td>\n",
       "      <td>NaN</td>\n",
       "      <td>NaN</td>\n",
       "      <td>NaN</td>\n",
       "    </tr>\n",
       "    <tr>\n",
       "      <th>1838</th>\n",
       "      <td>NaN</td>\n",
       "      <td>NaN</td>\n",
       "      <td>NaN</td>\n",
       "      <td>NaN</td>\n",
       "      <td>NaN</td>\n",
       "      <td>NaN</td>\n",
       "      <td>NaN</td>\n",
       "      <td>NaN</td>\n",
       "      <td>NaN</td>\n",
       "      <td>NaN</td>\n",
       "      <td>...</td>\n",
       "      <td>NaN</td>\n",
       "      <td>NaN</td>\n",
       "      <td>NaN</td>\n",
       "      <td>NaN</td>\n",
       "      <td>NaN</td>\n",
       "      <td>NaN</td>\n",
       "      <td>NaN</td>\n",
       "      <td>NaN</td>\n",
       "      <td>NaN</td>\n",
       "      <td>NaN</td>\n",
       "    </tr>\n",
       "    <tr>\n",
       "      <th>1839</th>\n",
       "      <td>NaN</td>\n",
       "      <td>NaN</td>\n",
       "      <td>NaN</td>\n",
       "      <td>NaN</td>\n",
       "      <td>NaN</td>\n",
       "      <td>NaN</td>\n",
       "      <td>NaN</td>\n",
       "      <td>NaN</td>\n",
       "      <td>NaN</td>\n",
       "      <td>NaN</td>\n",
       "      <td>...</td>\n",
       "      <td>NaN</td>\n",
       "      <td>NaN</td>\n",
       "      <td>NaN</td>\n",
       "      <td>NaN</td>\n",
       "      <td>NaN</td>\n",
       "      <td>NaN</td>\n",
       "      <td>NaN</td>\n",
       "      <td>NaN</td>\n",
       "      <td>NaN</td>\n",
       "      <td>NaN</td>\n",
       "    </tr>\n",
       "  </tbody>\n",
       "</table>\n",
       "<p>5 rows × 56 columns</p>\n",
       "</div>"
      ],
      "text/plain": [
       "      France  Italy  Portugal  Spain  Austria  Bel-Lux  Denmark  Finland  \\\n",
       "1835     NaN    NaN       NaN    NaN      NaN      NaN      NaN      NaN   \n",
       "1836     NaN    NaN       NaN    NaN      NaN      NaN      NaN      NaN   \n",
       "1837     NaN    NaN       NaN    NaN      NaN      NaN      NaN      NaN   \n",
       "1838     NaN    NaN       NaN    NaN      NaN      NaN      NaN      NaN   \n",
       "1839     NaN    NaN       NaN    NaN      NaN      NaN      NaN      NaN   \n",
       "\n",
       "      Germany  Greece         ...           Malaysia  Philippines  Singapore  \\\n",
       "1835      NaN     NaN         ...                NaN          NaN        NaN   \n",
       "1836      NaN     NaN         ...                NaN          NaN        NaN   \n",
       "1837      NaN     NaN         ...                NaN          NaN        NaN   \n",
       "1838      NaN     NaN         ...                NaN          NaN        NaN   \n",
       "1839      NaN     NaN         ...                NaN          NaN        NaN   \n",
       "\n",
       "      Taiwan  Thailand  Other Asia Pacific  Other  World  Unnamed: 54  \\\n",
       "1835     NaN       NaN                 NaN    NaN    NaN          NaN   \n",
       "1836     NaN       NaN                 NaN    NaN    NaN          NaN   \n",
       "1837     NaN       NaN                 NaN    NaN    NaN          NaN   \n",
       "1838     NaN       NaN                 NaN    NaN    NaN          NaN   \n",
       "1839     NaN       NaN                 NaN    NaN    NaN          NaN   \n",
       "\n",
       "      Coeff. of variation  \n",
       "1835                  NaN  \n",
       "1836                  NaN  \n",
       "1837                  NaN  \n",
       "1838                  NaN  \n",
       "1839                  NaN  \n",
       "\n",
       "[5 rows x 56 columns]"
      ]
     },
     "execution_count": 68,
     "metadata": {},
     "output_type": "execute_result"
    }
   ],
   "source": [
    "wine_imports_df.head()\n",
    "wine_exports_df.head()"
   ]
  },
  {
   "cell_type": "code",
   "execution_count": 69,
   "metadata": {},
   "outputs": [
    {
     "data": {
      "text/html": [
       "<div>\n",
       "<style scoped>\n",
       "    .dataframe tbody tr th:only-of-type {\n",
       "        vertical-align: middle;\n",
       "    }\n",
       "\n",
       "    .dataframe tbody tr th {\n",
       "        vertical-align: top;\n",
       "    }\n",
       "\n",
       "    .dataframe thead th {\n",
       "        text-align: right;\n",
       "    }\n",
       "</style>\n",
       "<table border=\"1\" class=\"dataframe\">\n",
       "  <thead>\n",
       "    <tr style=\"text-align: right;\">\n",
       "      <th></th>\n",
       "      <th>France</th>\n",
       "      <th>Italy</th>\n",
       "      <th>Portugal</th>\n",
       "      <th>Spain</th>\n",
       "      <th>Austria</th>\n",
       "      <th>Bel-Lux</th>\n",
       "      <th>Denmark</th>\n",
       "      <th>Finland</th>\n",
       "      <th>Germany</th>\n",
       "      <th>Greece</th>\n",
       "      <th>...</th>\n",
       "      <th>Malaysia</th>\n",
       "      <th>Philippines</th>\n",
       "      <th>Singapore</th>\n",
       "      <th>Taiwan</th>\n",
       "      <th>Thailand</th>\n",
       "      <th>Other Asia Pacific</th>\n",
       "      <th>Other</th>\n",
       "      <th>World</th>\n",
       "      <th>Unnamed: 54</th>\n",
       "      <th>Coeff. of variation</th>\n",
       "    </tr>\n",
       "  </thead>\n",
       "  <tbody>\n",
       "    <tr>\n",
       "      <th>1860</th>\n",
       "      <td>35.543565</td>\n",
       "      <td>4.397245</td>\n",
       "      <td>3.617121</td>\n",
       "      <td>24.680946</td>\n",
       "      <td>1.771158</td>\n",
       "      <td>NaN</td>\n",
       "      <td>1.771158</td>\n",
       "      <td>NaN</td>\n",
       "      <td>3.307414</td>\n",
       "      <td>0.955785</td>\n",
       "      <td>...</td>\n",
       "      <td>NaN</td>\n",
       "      <td>NaN</td>\n",
       "      <td>NaN</td>\n",
       "      <td>NaN</td>\n",
       "      <td>NaN</td>\n",
       "      <td>NaN</td>\n",
       "      <td>NaN</td>\n",
       "      <td>100.0</td>\n",
       "      <td>NaN</td>\n",
       "      <td>1.250159</td>\n",
       "    </tr>\n",
       "    <tr>\n",
       "      <th>1861</th>\n",
       "      <td>39.345031</td>\n",
       "      <td>5.400735</td>\n",
       "      <td>5.173480</td>\n",
       "      <td>26.852653</td>\n",
       "      <td>2.132697</td>\n",
       "      <td>NaN</td>\n",
       "      <td>1.805222</td>\n",
       "      <td>NaN</td>\n",
       "      <td>2.857592</td>\n",
       "      <td>1.155969</td>\n",
       "      <td>...</td>\n",
       "      <td>NaN</td>\n",
       "      <td>NaN</td>\n",
       "      <td>NaN</td>\n",
       "      <td>NaN</td>\n",
       "      <td>NaN</td>\n",
       "      <td>NaN</td>\n",
       "      <td>NaN</td>\n",
       "      <td>100.0</td>\n",
       "      <td>NaN</td>\n",
       "      <td>1.259903</td>\n",
       "    </tr>\n",
       "    <tr>\n",
       "      <th>1862</th>\n",
       "      <td>39.095663</td>\n",
       "      <td>4.458542</td>\n",
       "      <td>4.656296</td>\n",
       "      <td>25.284316</td>\n",
       "      <td>1.759491</td>\n",
       "      <td>NaN</td>\n",
       "      <td>2.106744</td>\n",
       "      <td>NaN</td>\n",
       "      <td>2.949333</td>\n",
       "      <td>0.914270</td>\n",
       "      <td>...</td>\n",
       "      <td>NaN</td>\n",
       "      <td>NaN</td>\n",
       "      <td>NaN</td>\n",
       "      <td>NaN</td>\n",
       "      <td>NaN</td>\n",
       "      <td>NaN</td>\n",
       "      <td>NaN</td>\n",
       "      <td>100.0</td>\n",
       "      <td>NaN</td>\n",
       "      <td>1.241536</td>\n",
       "    </tr>\n",
       "    <tr>\n",
       "      <th>1863</th>\n",
       "      <td>39.095279</td>\n",
       "      <td>8.751835</td>\n",
       "      <td>6.305730</td>\n",
       "      <td>22.589219</td>\n",
       "      <td>1.914143</td>\n",
       "      <td>NaN</td>\n",
       "      <td>2.857138</td>\n",
       "      <td>NaN</td>\n",
       "      <td>3.353272</td>\n",
       "      <td>0.569046</td>\n",
       "      <td>...</td>\n",
       "      <td>NaN</td>\n",
       "      <td>NaN</td>\n",
       "      <td>NaN</td>\n",
       "      <td>NaN</td>\n",
       "      <td>NaN</td>\n",
       "      <td>NaN</td>\n",
       "      <td>NaN</td>\n",
       "      <td>100.0</td>\n",
       "      <td>NaN</td>\n",
       "      <td>1.186349</td>\n",
       "    </tr>\n",
       "    <tr>\n",
       "      <th>1864</th>\n",
       "      <td>43.475860</td>\n",
       "      <td>4.337593</td>\n",
       "      <td>5.433936</td>\n",
       "      <td>25.248885</td>\n",
       "      <td>2.834977</td>\n",
       "      <td>NaN</td>\n",
       "      <td>3.048026</td>\n",
       "      <td>NaN</td>\n",
       "      <td>3.332650</td>\n",
       "      <td>1.213196</td>\n",
       "      <td>...</td>\n",
       "      <td>NaN</td>\n",
       "      <td>NaN</td>\n",
       "      <td>NaN</td>\n",
       "      <td>NaN</td>\n",
       "      <td>NaN</td>\n",
       "      <td>NaN</td>\n",
       "      <td>NaN</td>\n",
       "      <td>100.0</td>\n",
       "      <td>NaN</td>\n",
       "      <td>1.346088</td>\n",
       "    </tr>\n",
       "  </tbody>\n",
       "</table>\n",
       "<p>5 rows × 56 columns</p>\n",
       "</div>"
      ],
      "text/plain": [
       "         France     Italy  Portugal      Spain   Austria  Bel-Lux   Denmark  \\\n",
       "1860  35.543565  4.397245  3.617121  24.680946  1.771158      NaN  1.771158   \n",
       "1861  39.345031  5.400735  5.173480  26.852653  2.132697      NaN  1.805222   \n",
       "1862  39.095663  4.458542  4.656296  25.284316  1.759491      NaN  2.106744   \n",
       "1863  39.095279  8.751835  6.305730  22.589219  1.914143      NaN  2.857138   \n",
       "1864  43.475860  4.337593  5.433936  25.248885  2.834977      NaN  3.048026   \n",
       "\n",
       "      Finland   Germany    Greece         ...           Malaysia  Philippines  \\\n",
       "1860      NaN  3.307414  0.955785         ...                NaN          NaN   \n",
       "1861      NaN  2.857592  1.155969         ...                NaN          NaN   \n",
       "1862      NaN  2.949333  0.914270         ...                NaN          NaN   \n",
       "1863      NaN  3.353272  0.569046         ...                NaN          NaN   \n",
       "1864      NaN  3.332650  1.213196         ...                NaN          NaN   \n",
       "\n",
       "      Singapore  Taiwan  Thailand  Other Asia Pacific  Other  World  \\\n",
       "1860        NaN     NaN       NaN                 NaN    NaN  100.0   \n",
       "1861        NaN     NaN       NaN                 NaN    NaN  100.0   \n",
       "1862        NaN     NaN       NaN                 NaN    NaN  100.0   \n",
       "1863        NaN     NaN       NaN                 NaN    NaN  100.0   \n",
       "1864        NaN     NaN       NaN                 NaN    NaN  100.0   \n",
       "\n",
       "      Unnamed: 54  Coeff. of variation  \n",
       "1860          NaN             1.250159  \n",
       "1861          NaN             1.259903  \n",
       "1862          NaN             1.241536  \n",
       "1863          NaN             1.186349  \n",
       "1864          NaN             1.346088  \n",
       "\n",
       "[5 rows x 56 columns]"
      ]
     },
     "execution_count": 69,
     "metadata": {},
     "output_type": "execute_result"
    }
   ],
   "source": [
    "wine_exports = wine_exports_df.fillna(value=0)\n",
    "wine_imports = wine_exports_df.fillna(value=0)\n",
    "wine_exports.head(300)\n",
    "wine_exports = wine_exports_df.drop_duplicates(subset=None, keep=False, inplace=False)\n",
    "wine_exports.head()"
   ]
  },
  {
   "cell_type": "code",
   "execution_count": 70,
   "metadata": {},
   "outputs": [],
   "source": [
    "top_exporters = wine_exports_df[[\"France\",\"Italy\",\"Spain\"]]"
   ]
  },
  {
   "cell_type": "code",
   "execution_count": 92,
   "metadata": {
    "scrolled": false
   },
   "outputs": [],
   "source": [
    "# wine_exports_df.drop(wine_exports_df.index[184:192])\n",
    "# wine_exports_df.head()\n",
    "wine_imports_df.drop(wine_exports_df.index[184:192])\n",
    "wine_imports_df.head()\n",
    "wine_imports_df= wine_imports_df.drop_duplicates(subset=None, keep=False, inplace=False)"
   ]
  },
  {
   "cell_type": "code",
   "execution_count": 72,
   "metadata": {
    "scrolled": true
   },
   "outputs": [
    {
     "name": "stdout",
     "output_type": "stream",
     "text": [
      "Portugal          2.648021\n",
      "Austria           0.467136\n",
      "Bel-Lux           0.347950\n",
      "Denmark           0.320798\n",
      "Germany           3.432018\n",
      "Greece            0.285458\n",
      "Ireland           0.038982\n",
      "Sweden            0.069728\n",
      "Switzerland       0.011793\n",
      "United Kingdom    0.895747\n",
      "Other WEM         0.054516\n",
      "Bulgaria          0.274763\n",
      "Croatia           0.034423\n",
      "Georgia           0.358484\n",
      "Hungary           0.644783\n",
      "Moldova           1.270901\n",
      "Romania           0.122685\n",
      "Russia            0.046719\n",
      "Other ECA         2.058664\n",
      "Australia         7.150038\n",
      "New Zealand       2.034424\n",
      "Canada            0.684230\n",
      "United States     4.247122\n",
      "Argentina         2.478680\n",
      "Brazil            0.021717\n",
      "Chile             8.684588\n",
      "Mexico            0.010983\n",
      "Uruguay           0.032240\n",
      "Other LAC         0.049845\n",
      "Algeria           0.002177\n",
      "Morocco           0.066076\n",
      "South Africa      4.084101\n",
      "Tunisia           0.005428\n",
      "Turkey            0.040155\n",
      "Other AME         0.308836\n",
      "China             0.095401\n",
      "Hong Kong         0.258898\n",
      "India             0.012302\n",
      "Japan             0.002153\n",
      "Korea             0.002049\n",
      "Malaysia          0.042849\n",
      "Philippines       0.006321\n",
      "Singapore         0.165988\n",
      "Name: 2016, dtype: float64\n"
     ]
    }
   ],
   "source": [
    "exporters_2016 = wine_exports_df.iloc[181,:]\n",
    "top_exporters_2016 = exporters_2016 > 10\n",
    "bottom_exporters_2016 = exporters_2016 <= 10\n",
    "# top_exporters_2016.value_counts()\n",
    "top_e_2016=exporters_2016[[\"France\",\"Italy\",\"Spain\"]]\n",
    "top_e_2016\n",
    "\n",
    "def grab_columns_cond(df,cond,value):\n",
    "    key_list=[]\n",
    "    if cond == \"g\":\n",
    "        df_new = df > value\n",
    "    if cond == \"ge\":\n",
    "        df_new = df >= value\n",
    "    if cond == \"l\":\n",
    "        df_new = df < value\n",
    "    if cond == \"le\":\n",
    "        df_new = df <= value\n",
    "    if cond == \"e\":\n",
    "        df_new = df == value\n",
    "    if cond == \"ne\":\n",
    "        df_new = df != value\n",
    "    for i in range(0,df.size-1):\n",
    "        if df_new[i].item()==True:\n",
    "            key_list.append(df_new.index[i])\n",
    "    result=df.loc[key_list]\n",
    "    \n",
    "    return result\n",
    "\n",
    "result=grab_columns_cond(exporters_2016,'le',10)\n",
    "# print(result)\n",
    "rest_of_world = grab_columns_cond(exporters_2016,'le',10)\n",
    "print(rest_of_world)"
   ]
  },
  {
   "cell_type": "code",
   "execution_count": 73,
   "metadata": {},
   "outputs": [
    {
     "data": {
      "text/plain": [
       "13.442070575458748"
      ]
     },
     "execution_count": 73,
     "metadata": {},
     "output_type": "execute_result"
    }
   ],
   "source": [
    "France_2016 = exporters_2016['France']\n",
    "France_2016"
   ]
  },
  {
   "cell_type": "code",
   "execution_count": 74,
   "metadata": {},
   "outputs": [
    {
     "data": {
      "text/plain": [
       "19.638769776911364"
      ]
     },
     "execution_count": 74,
     "metadata": {},
     "output_type": "execute_result"
    }
   ],
   "source": [
    "Italy_2016 = exporters_2016['Italy']\n",
    "Italy_2016"
   ]
  },
  {
   "cell_type": "code",
   "execution_count": 75,
   "metadata": {},
   "outputs": [
    {
     "data": {
      "text/plain": [
       "21.259444952675892"
      ]
     },
     "execution_count": 75,
     "metadata": {},
     "output_type": "execute_result"
    }
   ],
   "source": [
    "Spain_2016 = exporters_2016['Spain']\n",
    "Spain_2016"
   ]
  },
  {
   "cell_type": "code",
   "execution_count": 76,
   "metadata": {},
   "outputs": [
    {
     "data": {
      "text/plain": [
       "43.87016753968728"
      ]
     },
     "execution_count": 76,
     "metadata": {},
     "output_type": "execute_result"
    }
   ],
   "source": [
    "other_exports = rest_of_world.sum()\n",
    "other_exports"
   ]
  },
  {
   "cell_type": "code",
   "execution_count": 77,
   "metadata": {},
   "outputs": [
    {
     "data": {
      "image/png": "[encoded data removed]",
      "text/plain": [
       "<Figure size 432x288 with 1 Axes>"
      ]
     },
     "metadata": {},
     "output_type": "display_data"
    }
   ],
   "source": [
    "labels = [\"France\", \"Italy\", \"Spain\", \"Total all other countries\"]\n",
    "sizes = [France_2016, Italy_2016, Spain_2016, other_exports]\n",
    "colors = [\"blue\", \"coral\", \"gold\", \"purple\"]\n",
    "explode = [0,0,0.1,0]\n",
    "plt.pie(sizes, explode=explode, labels=labels, colors=colors,\n",
    "        \n",
    "\tautopct=\"%1.1f%%\", shadow=True, startangle=30)\n",
    "plt.axis(\"equal\")\n",
    "plt.title(\"% of All Global Wine Exports in 2016\")\n",
    "plt.savefig(\"wineExports.png\")\n",
    "plt.show()\n"
   ]
  },
  {
   "cell_type": "code",
   "execution_count": 78,
   "metadata": {
    "scrolled": false
   },
   "outputs": [
    {
     "data": {
      "text/html": [
       "<div>\n",
       "<style scoped>\n",
       "    .dataframe tbody tr th:only-of-type {\n",
       "        vertical-align: middle;\n",
       "    }\n",
       "\n",
       "    .dataframe tbody tr th {\n",
       "        vertical-align: top;\n",
       "    }\n",
       "\n",
       "    .dataframe thead th {\n",
       "        text-align: right;\n",
       "    }\n",
       "</style>\n",
       "<table border=\"1\" class=\"dataframe\">\n",
       "  <thead>\n",
       "    <tr style=\"text-align: right;\">\n",
       "      <th></th>\n",
       "      <th>0</th>\n",
       "      <th>France</th>\n",
       "      <th>Italy</th>\n",
       "      <th>Portugal</th>\n",
       "      <th>Spain</th>\n",
       "      <th>Austria</th>\n",
       "      <th>Bel-Lux</th>\n",
       "      <th>Denmark</th>\n",
       "      <th>Finland</th>\n",
       "      <th>Germany</th>\n",
       "      <th>...</th>\n",
       "      <th>Malaysia</th>\n",
       "      <th>Philippines</th>\n",
       "      <th>Singapore</th>\n",
       "      <th>Taiwan</th>\n",
       "      <th>Thailand</th>\n",
       "      <th>Other Asia Pacific</th>\n",
       "      <th>Other</th>\n",
       "      <th>World</th>\n",
       "      <th>Unnamed: 55</th>\n",
       "      <th>Coeff. of variation</th>\n",
       "    </tr>\n",
       "  </thead>\n",
       "  <tbody>\n",
       "    <tr>\n",
       "      <th>0</th>\n",
       "      <td>1835</td>\n",
       "      <td>NaN</td>\n",
       "      <td>NaN</td>\n",
       "      <td>NaN</td>\n",
       "      <td>NaN</td>\n",
       "      <td>NaN</td>\n",
       "      <td>NaN</td>\n",
       "      <td>NaN</td>\n",
       "      <td>NaN</td>\n",
       "      <td>NaN</td>\n",
       "      <td>...</td>\n",
       "      <td>NaN</td>\n",
       "      <td>NaN</td>\n",
       "      <td>NaN</td>\n",
       "      <td>NaN</td>\n",
       "      <td>NaN</td>\n",
       "      <td>NaN</td>\n",
       "      <td>NaN</td>\n",
       "      <td>NaN</td>\n",
       "      <td>NaN</td>\n",
       "      <td>NaN</td>\n",
       "    </tr>\n",
       "    <tr>\n",
       "      <th>1</th>\n",
       "      <td>1836</td>\n",
       "      <td>NaN</td>\n",
       "      <td>NaN</td>\n",
       "      <td>NaN</td>\n",
       "      <td>NaN</td>\n",
       "      <td>NaN</td>\n",
       "      <td>NaN</td>\n",
       "      <td>NaN</td>\n",
       "      <td>NaN</td>\n",
       "      <td>NaN</td>\n",
       "      <td>...</td>\n",
       "      <td>NaN</td>\n",
       "      <td>NaN</td>\n",
       "      <td>NaN</td>\n",
       "      <td>NaN</td>\n",
       "      <td>NaN</td>\n",
       "      <td>NaN</td>\n",
       "      <td>NaN</td>\n",
       "      <td>NaN</td>\n",
       "      <td>NaN</td>\n",
       "      <td>NaN</td>\n",
       "    </tr>\n",
       "    <tr>\n",
       "      <th>2</th>\n",
       "      <td>1837</td>\n",
       "      <td>NaN</td>\n",
       "      <td>NaN</td>\n",
       "      <td>NaN</td>\n",
       "      <td>NaN</td>\n",
       "      <td>NaN</td>\n",
       "      <td>NaN</td>\n",
       "      <td>NaN</td>\n",
       "      <td>NaN</td>\n",
       "      <td>NaN</td>\n",
       "      <td>...</td>\n",
       "      <td>NaN</td>\n",
       "      <td>NaN</td>\n",
       "      <td>NaN</td>\n",
       "      <td>NaN</td>\n",
       "      <td>NaN</td>\n",
       "      <td>NaN</td>\n",
       "      <td>NaN</td>\n",
       "      <td>NaN</td>\n",
       "      <td>NaN</td>\n",
       "      <td>NaN</td>\n",
       "    </tr>\n",
       "    <tr>\n",
       "      <th>3</th>\n",
       "      <td>1838</td>\n",
       "      <td>NaN</td>\n",
       "      <td>NaN</td>\n",
       "      <td>NaN</td>\n",
       "      <td>NaN</td>\n",
       "      <td>NaN</td>\n",
       "      <td>NaN</td>\n",
       "      <td>NaN</td>\n",
       "      <td>NaN</td>\n",
       "      <td>NaN</td>\n",
       "      <td>...</td>\n",
       "      <td>NaN</td>\n",
       "      <td>NaN</td>\n",
       "      <td>NaN</td>\n",
       "      <td>NaN</td>\n",
       "      <td>NaN</td>\n",
       "      <td>NaN</td>\n",
       "      <td>NaN</td>\n",
       "      <td>NaN</td>\n",
       "      <td>NaN</td>\n",
       "      <td>NaN</td>\n",
       "    </tr>\n",
       "    <tr>\n",
       "      <th>4</th>\n",
       "      <td>1839</td>\n",
       "      <td>NaN</td>\n",
       "      <td>NaN</td>\n",
       "      <td>NaN</td>\n",
       "      <td>NaN</td>\n",
       "      <td>NaN</td>\n",
       "      <td>NaN</td>\n",
       "      <td>NaN</td>\n",
       "      <td>NaN</td>\n",
       "      <td>NaN</td>\n",
       "      <td>...</td>\n",
       "      <td>NaN</td>\n",
       "      <td>NaN</td>\n",
       "      <td>NaN</td>\n",
       "      <td>NaN</td>\n",
       "      <td>NaN</td>\n",
       "      <td>NaN</td>\n",
       "      <td>NaN</td>\n",
       "      <td>NaN</td>\n",
       "      <td>NaN</td>\n",
       "      <td>NaN</td>\n",
       "    </tr>\n",
       "  </tbody>\n",
       "</table>\n",
       "<p>5 rows × 57 columns</p>\n",
       "</div>"
      ],
      "text/plain": [
       "      0  France  Italy  Portugal  Spain  Austria  Bel-Lux  Denmark  Finland  \\\n",
       "0  1835     NaN    NaN       NaN    NaN      NaN      NaN      NaN      NaN   \n",
       "1  1836     NaN    NaN       NaN    NaN      NaN      NaN      NaN      NaN   \n",
       "2  1837     NaN    NaN       NaN    NaN      NaN      NaN      NaN      NaN   \n",
       "3  1838     NaN    NaN       NaN    NaN      NaN      NaN      NaN      NaN   \n",
       "4  1839     NaN    NaN       NaN    NaN      NaN      NaN      NaN      NaN   \n",
       "\n",
       "   Germany         ...           Malaysia  Philippines  Singapore  Taiwan  \\\n",
       "0      NaN         ...                NaN          NaN        NaN     NaN   \n",
       "1      NaN         ...                NaN          NaN        NaN     NaN   \n",
       "2      NaN         ...                NaN          NaN        NaN     NaN   \n",
       "3      NaN         ...                NaN          NaN        NaN     NaN   \n",
       "4      NaN         ...                NaN          NaN        NaN     NaN   \n",
       "\n",
       "   Thailand  Other Asia Pacific  Other  World  Unnamed: 55  \\\n",
       "0       NaN                 NaN    NaN    NaN          NaN   \n",
       "1       NaN                 NaN    NaN    NaN          NaN   \n",
       "2       NaN                 NaN    NaN    NaN          NaN   \n",
       "3       NaN                 NaN    NaN    NaN          NaN   \n",
       "4       NaN                 NaN    NaN    NaN          NaN   \n",
       "\n",
       "   Coeff. of variation  \n",
       "0                  NaN  \n",
       "1                  NaN  \n",
       "2                  NaN  \n",
       "3                  NaN  \n",
       "4                  NaN  \n",
       "\n",
       "[5 rows x 57 columns]"
      ]
     },
     "execution_count": 78,
     "metadata": {},
     "output_type": "execute_result"
    }
   ],
   "source": [
    "wine_imports_df.head()"
   ]
  },
  {
   "cell_type": "code",
   "execution_count": 79,
   "metadata": {},
   "outputs": [
    {
     "data": {
      "text/plain": [
       "0                      2016.000000\n",
       "France                    7.443140\n",
       "Italy                     1.604883\n",
       "Portugal                  1.686484\n",
       "Spain                     0.727834\n",
       "Austria                   0.000000\n",
       "Bel-Lux                   2.920726\n",
       "Denmark                   1.807552\n",
       "Finland                   0.000000\n",
       "Germany                  13.661460\n",
       "Greece                    0.195726\n",
       "Ireland                   1.110055\n",
       "Netherlands               3.580245\n",
       "Sweden                    2.057401\n",
       "Switzerland               1.741930\n",
       "United Kingdom           13.662562\n",
       "Other WEM                 0.949561\n",
       "Bulgaria                  0.068971\n",
       "Croatia                   0.291998\n",
       "Georgia                   0.001545\n",
       "Hungary                   0.200604\n",
       "Moldova                   0.009760\n",
       "Romania                   0.472988\n",
       "Russia                    3.768679\n",
       "Ukraine                   0.000000\n",
       "Other ECA                 5.674589\n",
       "Australia                 0.823400\n",
       "New Zealand               0.350600\n",
       "Canada                    3.916439\n",
       "United States            10.512041\n",
       "Argentina                 0.102182\n",
       "Brazil                    0.868096\n",
       "Chile                     0.026305\n",
       "Mexico                    0.642067\n",
       "Uruguay                   0.029003\n",
       "Other LAC                 0.870411\n",
       "Algeria                   0.106297\n",
       "Morocco                   0.019930\n",
       "South Africa              0.025354\n",
       "Tunisia                   0.001400\n",
       "Turkey                    0.019183\n",
       "Other AME                 1.407456\n",
       "China                     6.012380\n",
       "Hong Kong                 0.592954\n",
       "India                     0.037734\n",
       "Japan                     2.531039\n",
       "Korea                     0.352219\n",
       "Malaysia                  0.115175\n",
       "Philippines               0.192617\n",
       "Singapore                 0.282260\n",
       "Taiwan                    0.000000\n",
       "Thailand                  0.000000\n",
       "Other Asia Pacific        0.266956\n",
       "Other                          NaN\n",
       "World                          NaN\n",
       "Unnamed: 55                    NaN\n",
       "Coeff. of variation            NaN\n",
       "Name: 181, dtype: float64"
      ]
     },
     "execution_count": 79,
     "metadata": {},
     "output_type": "execute_result"
    }
   ],
   "source": [
    "importers_2016 = wine_imports_df.iloc[181,:]\n",
    "importers_2016"
   ]
  },
  {
   "cell_type": "code",
   "execution_count": 80,
   "metadata": {},
   "outputs": [
    {
     "name": "stdout",
     "output_type": "stream",
     "text": [
      "France                7.443140\n",
      "Italy                 1.604883\n",
      "Portugal              1.686484\n",
      "Spain                 0.727834\n",
      "Austria               0.000000\n",
      "Bel-Lux               2.920726\n",
      "Denmark               1.807552\n",
      "Finland               0.000000\n",
      "Greece                0.195726\n",
      "Ireland               1.110055\n",
      "Netherlands           3.580245\n",
      "Sweden                2.057401\n",
      "Switzerland           1.741930\n",
      "Other WEM             0.949561\n",
      "Bulgaria              0.068971\n",
      "Croatia               0.291998\n",
      "Georgia               0.001545\n",
      "Hungary               0.200604\n",
      "Moldova               0.009760\n",
      "Romania               0.472988\n",
      "Russia                3.768679\n",
      "Ukraine               0.000000\n",
      "Other ECA             5.674589\n",
      "Australia             0.823400\n",
      "New Zealand           0.350600\n",
      "Canada                3.916439\n",
      "Argentina             0.102182\n",
      "Brazil                0.868096\n",
      "Chile                 0.026305\n",
      "Mexico                0.642067\n",
      "Uruguay               0.029003\n",
      "Other LAC             0.870411\n",
      "Algeria               0.106297\n",
      "Morocco               0.019930\n",
      "South Africa          0.025354\n",
      "Tunisia               0.001400\n",
      "Turkey                0.019183\n",
      "Other AME             1.407456\n",
      "China                 6.012380\n",
      "Hong Kong             0.592954\n",
      "India                 0.037734\n",
      "Japan                 2.531039\n",
      "Korea                 0.352219\n",
      "Malaysia              0.115175\n",
      "Philippines           0.192617\n",
      "Singapore             0.282260\n",
      "Taiwan                0.000000\n",
      "Thailand              0.000000\n",
      "Other Asia Pacific    0.266956\n",
      "Name: 181, dtype: float64\n"
     ]
    }
   ],
   "source": [
    "importers_2016 = wine_imports_df.iloc[181,:]\n",
    "top_importers_2016 = importers_2016 > 10\n",
    "bottom_importers_2016 = importers_2016 <= 10\n",
    "# top_exporters_2016.value_counts()\n",
    "top_i_2016=importers_2016[[\"Germany\",\"United Kingdom\",\"United States\"]]\n",
    "top_i_2016\n",
    "\n",
    "def grab_columns_cond(df,cond,value):\n",
    "    key_list=[]\n",
    "    if cond == \"g\":\n",
    "        df_new = df > value\n",
    "    if cond == \"ge\":\n",
    "        df_new = df >= value\n",
    "    if cond == \"l\":\n",
    "        df_new = df < value\n",
    "    if cond == \"le\":\n",
    "        df_new = df <= value\n",
    "    if cond == \"e\":\n",
    "        df_new = df == value\n",
    "    if cond == \"ne\":\n",
    "        df_new = df != value\n",
    "    for j in range(0,df.size-1):\n",
    "        if df_new[j].item()==True:\n",
    "            key_list.append(df_new.index[j])\n",
    "    result=df.loc[key_list]\n",
    "    \n",
    "    return result\n",
    "\n",
    "result=grab_columns_cond(importers_2016,'le',10)\n",
    "# print(result)\n",
    "rest_of_world_imp=grab_columns_cond(importers_2016,'le',10)\n",
    "print(rest_of_world_imp)"
   ]
  },
  {
   "cell_type": "code",
   "execution_count": 81,
   "metadata": {},
   "outputs": [
    {
     "data": {
      "text/plain": [
       "55.90612764514123"
      ]
     },
     "execution_count": 81,
     "metadata": {},
     "output_type": "execute_result"
    }
   ],
   "source": [
    "other_imports = rest_of_world_imp.sum()\n",
    "other_imports\n"
   ]
  },
  {
   "cell_type": "code",
   "execution_count": 82,
   "metadata": {},
   "outputs": [
    {
     "data": {
      "text/plain": [
       "7.443140062936931"
      ]
     },
     "execution_count": 82,
     "metadata": {},
     "output_type": "execute_result"
    }
   ],
   "source": [
    "French_imports_2016 = importers_2016['France']\n",
    "French_imports_2016"
   ]
  },
  {
   "cell_type": "code",
   "execution_count": 83,
   "metadata": {},
   "outputs": [
    {
     "data": {
      "text/plain": [
       "10.51204092784865"
      ]
     },
     "execution_count": 83,
     "metadata": {},
     "output_type": "execute_result"
    }
   ],
   "source": [
    "US_imports_2016 = importers_2016['United States']\n",
    "US_imports_2016"
   ]
  },
  {
   "cell_type": "code",
   "execution_count": 84,
   "metadata": {},
   "outputs": [
    {
     "data": {
      "text/plain": [
       "13.661459609188038"
      ]
     },
     "execution_count": 84,
     "metadata": {},
     "output_type": "execute_result"
    }
   ],
   "source": [
    "Germany_imports_2016 = importers_2016['Germany']\n",
    "Germany_imports_2016"
   ]
  },
  {
   "cell_type": "code",
   "execution_count": 85,
   "metadata": {},
   "outputs": [
    {
     "data": {
      "text/plain": [
       "13.662561947653055"
      ]
     },
     "execution_count": 85,
     "metadata": {},
     "output_type": "execute_result"
    }
   ],
   "source": [
    "UK_imports_2016 = importers_2016['United Kingdom']\n",
    "UK_imports_2016"
   ]
  },
  {
   "cell_type": "code",
   "execution_count": 86,
   "metadata": {},
   "outputs": [
    {
     "data": {
      "text/plain": [
       "0.7278343006274849"
      ]
     },
     "execution_count": 86,
     "metadata": {},
     "output_type": "execute_result"
    }
   ],
   "source": [
    "Spain_imports_2016 = importers_2016['Spain']\n",
    "Spain_imports_2016"
   ]
  },
  {
   "cell_type": "code",
   "execution_count": 87,
   "metadata": {},
   "outputs": [
    {
     "data": {
      "text/plain": [
       "1.6048827846765532"
      ]
     },
     "execution_count": 87,
     "metadata": {},
     "output_type": "execute_result"
    }
   ],
   "source": [
    "Italy_imports_2016 = importers_2016['Italy']\n",
    "Italy_imports_2016"
   ]
  },
  {
   "cell_type": "code",
   "execution_count": 88,
   "metadata": {
    "scrolled": true
   },
   "outputs": [
    {
     "data": {
      "image/png": "[encoded data removed]",
      "text/plain": [
       "<Figure size 432x288 with 1 Axes>"
      ]
     },
     "metadata": {},
     "output_type": "display_data"
    }
   ],
   "source": [
    "labels = [\"Total all other countries\", \"US\", \"Germany\", \"UK\"]\n",
    "sizes = [other_imports, US_imports_2016, Germany_imports_2016, UK_imports_2016]\n",
    "colors = [\"purple\", \"coral\", \"Gold\", \"lightgreen\"]\n",
    "explode = [0,0,0.1,0.1]\n",
    "plt.pie(sizes, explode=explode, labels=labels, colors=colors,\n",
    "        \n",
    "\tautopct=\"%1.1f%%\", shadow=True, startangle=210)\n",
    "plt.axis(\"equal\")\n",
    "plt.title(\"% of All Global Wine Imports in 2016\")\n",
    "plt.savefig(\"wineImports.png\")\n",
    "plt.show()\n"
   ]
  },
  {
   "cell_type": "code",
   "execution_count": 89,
   "metadata": {},
   "outputs": [
    {
     "data": {
      "image/png": "[encoded data removed]",
      "text/plain": [
       "<Figure size 432x288 with 1 Axes>"
      ]
     },
     "metadata": {},
     "output_type": "display_data"
    }
   ],
   "source": [
    "labels = [\"Italy\",\"France\", \"Spain\", \"Total all other countries\"]\n",
    "sizes = [Italy_imports_2016,French_imports_2016,Spain_imports_2016,90 ]\n",
    "colors = [\"lightblue\", \"coral\", \"Gold\",\"purple\"]\n",
    "explode = [.1,.1,.1,0]\n",
    "plt.pie(sizes, explode=explode, labels=labels, colors=colors,\n",
    "        \n",
    "\tautopct=\"%1.1f%%\", shadow=True, startangle=200)\n",
    "plt.axis(\"equal\")\n",
    "plt.title(\"% of All Global Wine Imports in 2016\")\n",
    "plt.savefig(\"revwineImports.png\")\n",
    "plt.show()\n"
   ]
  },
  {
   "cell_type": "code",
   "execution_count": null,
   "metadata": {},
   "outputs": [],
   "source": []
  }
 ],
 "metadata": {
  "kernelspec": {
   "display_name": "Python 3",
   "language": "python",
   "name": "python3"
  },
  "language_info": {
   "codemirror_mode": {
    "name": "ipython",
    "version": 3
   },
   "file_extension": ".py",
   "mimetype": "text/x-python",
   "name": "python",
   "nbconvert_exporter": "python",
   "pygments_lexer": "ipython3",
   "version": "3.7.1"
  }
 },
 "nbformat": 4,
 "nbformat_minor": 2
}
